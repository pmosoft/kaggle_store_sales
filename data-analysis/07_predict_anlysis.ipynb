{
 "cells": [
  {
   "cell_type": "code",
   "execution_count": 17,
   "metadata": {},
   "outputs": [],
   "source": [
    "import findspark \n",
    "findspark.init() "
   ]
  },
  {
   "cell_type": "code",
   "execution_count": 18,
   "metadata": {},
   "outputs": [
    {
     "name": "stdout",
     "output_type": "stream",
     "text": [
      "The sparksql_magic extension is already loaded. To reload it, use:\n",
      "  %reload_ext sparksql_magic\n"
     ]
    }
   ],
   "source": [
    "import pyspark \n",
    "from pyspark.sql import *\n",
    "spark = SparkSession.builder.master(\"local[*]\").getOrCreate()\n",
    "spark.conf.set(\"spark.sql.debug.maxToStringFields\", 1000)\n",
    "%load_ext sparksql_magic\n",
    "%config SparkSql.limit=2000"
   ]
  },
  {
   "cell_type": "code",
   "execution_count": 19,
   "metadata": {},
   "outputs": [],
   "source": [
    "import numpy as np # linear algebra\n",
    "import pandas as pd # data processing, CSV filcondae I/O (e.g. pd.read_csv)\n",
    "import random as rd # generating random numbers\n",
    "import matplotlib.pyplot as plt # basic plotting\n",
    "import seaborn as sns # for prettier plots\n",
    "import plotly.express as px\n",
    "from pyspark.sql.types import StructType,StructField, StringType, IntegerType\n"
   ]
  },
  {
   "cell_type": "code",
   "execution_count": 20,
   "metadata": {},
   "outputs": [
    {
     "data": {
      "text/plain": [
       "DataFrame[]"
      ]
     },
     "execution_count": 20,
     "metadata": {},
     "output_type": "execute_result"
    }
   ],
   "source": [
    "path = \"d:/lge/pycharm-projects/kaggle_store_sales/input\"\n",
    "train_master_all = spark.read.csv(f\"{path}/train_master_all.csv\", inferSchema = True, header = True);train_master_all.createOrReplaceTempView(\"train_master_all\");spark.sql(\"CACHE TABLE train_master_all\")"
   ]
  },
  {
   "cell_type": "code",
   "execution_count": 21,
   "metadata": {},
   "outputs": [],
   "source": [
    "schema = StructType([\n",
    "    StructField(\"work_dtm16\"    , StringType()),\n",
    "    StructField(\"scenario_id\"   , StringType()),\n",
    "    StructField(\"scenario_desc\" , StringType()),\n",
    "    StructField(\"feature_src\"   , StringType()),\n",
    "    StructField(\"feature_col\"   , StringType()),\n",
    "    StructField(\"feature_sdt8\"  , StringType()),\n",
    "    StructField(\"feature_edt8\"  , StringType()),\n",
    "    StructField(\"feature_desc\"  , StringType()),\n",
    "    StructField(\"predict_col\"   , StringType()),\n",
    "    StructField(\"predict_sdt8\"  , StringType()),\n",
    "    StructField(\"predict_edt8\"  , StringType()),\n",
    "    StructField(\"auto_ml_model\" , StringType()),\n",
    "    StructField(\"model_name\"    , StringType()),\n",
    "    StructField(\"model_cfg\"     , StringType()),\n",
    "    StructField(\"store_nbr\"     , StringType()),\n",
    "    StructField(\"family2\"       , StringType()),\n",
    "    StructField(\"test_y\"        , StringType()),\n",
    "    StructField(\"predict_y\"     , StringType()),\n",
    "    StructField(\"mae\"           , StringType()),\n",
    "    StructField(\"mse\"          , StringType()),\n",
    "    StructField(\"rmse\"           , StringType()),\n",
    "    StructField(\"msle\"           , StringType()),\n",
    "    StructField(\"rmsle\"           , StringType()),\n",
    "    StructField(\"r2\"           , StringType()),\n",
    "    StructField(\"score\"         , StringType()),\n",
    "    StructField(\"fit_tm_sec\"    , StringType()),\n",
    "    StructField(\"file_nm\"       , StringType()),\n",
    "    StructField(\"memo\"          , StringType())\n",
    "    ])"
   ]
  },
  {
   "cell_type": "code",
   "execution_count": 44,
   "metadata": {},
   "outputs": [
    {
     "data": {
      "text/plain": [
       "DataFrame[]"
      ]
     },
     "execution_count": 44,
     "metadata": {},
     "output_type": "execute_result"
    }
   ],
   "source": [
    "path = \"d:/lge/pycharm-projects/kaggle_store_sales/output\"\n",
    "from os import listdir\n",
    "from os.path import isfile, join\n",
    "path = \"d:/lge/pycharm-projects/kaggle_store_sales/output/\"\n",
    "files = [path+f for f in listdir(path) if isfile(join(path, f))]\n",
    "results = spark.read.schema(schema).json(files);results.createOrReplaceTempView(\"results\");spark.sql(\"CACHE TABLE results\")\n",
    "#results = spark.read.json(files);results.createOrReplaceTempView(\"results\");spark.sql(\"CACHE TABLE results\")\n"
   ]
  },
  {
   "cell_type": "code",
   "execution_count": 23,
   "metadata": {},
   "outputs": [
    {
     "data": {
      "text/html": [
       "<div>\n",
       "<style scoped>\n",
       "    .dataframe tbody tr th:only-of-type {\n",
       "        vertical-align: middle;\n",
       "    }\n",
       "\n",
       "    .dataframe tbody tr th {\n",
       "        vertical-align: top;\n",
       "    }\n",
       "\n",
       "    .dataframe thead th {\n",
       "        text-align: right;\n",
       "    }\n",
       "</style>\n",
       "<table border=\"1\" class=\"dataframe\">\n",
       "  <thead>\n",
       "    <tr style=\"text-align: right;\">\n",
       "      <th></th>\n",
       "      <th>scenario_id</th>\n",
       "      <th>cnt</th>\n",
       "      <th>s90</th>\n",
       "      <th>s70</th>\n",
       "      <th>s50</th>\n",
       "      <th>s30</th>\n",
       "      <th>s10</th>\n",
       "      <th>fit_tm_min</th>\n",
       "    </tr>\n",
       "  </thead>\n",
       "  <tbody>\n",
       "    <tr>\n",
       "      <th>0</th>\n",
       "      <td>x001f004d001y001t001m001c001</td>\n",
       "      <td>1782</td>\n",
       "      <td>906</td>\n",
       "      <td>414</td>\n",
       "      <td>221</td>\n",
       "      <td>101</td>\n",
       "      <td>111</td>\n",
       "      <td>2.0</td>\n",
       "    </tr>\n",
       "    <tr>\n",
       "      <th>1</th>\n",
       "      <td>x001f005d001y001t001m001c001</td>\n",
       "      <td>1782</td>\n",
       "      <td>979</td>\n",
       "      <td>428</td>\n",
       "      <td>179</td>\n",
       "      <td>66</td>\n",
       "      <td>94</td>\n",
       "      <td>3.0</td>\n",
       "    </tr>\n",
       "    <tr>\n",
       "      <th>2</th>\n",
       "      <td>x001f006d001y001t001m001c001</td>\n",
       "      <td>1782</td>\n",
       "      <td>988</td>\n",
       "      <td>419</td>\n",
       "      <td>184</td>\n",
       "      <td>68</td>\n",
       "      <td>92</td>\n",
       "      <td>3.0</td>\n",
       "    </tr>\n",
       "    <tr>\n",
       "      <th>3</th>\n",
       "      <td>x001f007d001y001t001m001c001</td>\n",
       "      <td>1782</td>\n",
       "      <td>983</td>\n",
       "      <td>426</td>\n",
       "      <td>181</td>\n",
       "      <td>66</td>\n",
       "      <td>93</td>\n",
       "      <td>3.0</td>\n",
       "    </tr>\n",
       "    <tr>\n",
       "      <th>4</th>\n",
       "      <td>x001f008d001y001t001m001c001</td>\n",
       "      <td>1782</td>\n",
       "      <td>983</td>\n",
       "      <td>426</td>\n",
       "      <td>181</td>\n",
       "      <td>66</td>\n",
       "      <td>93</td>\n",
       "      <td>3.0</td>\n",
       "    </tr>\n",
       "    <tr>\n",
       "      <th>5</th>\n",
       "      <td>x001f009d001y001t001m001c001</td>\n",
       "      <td>1782</td>\n",
       "      <td>979</td>\n",
       "      <td>428</td>\n",
       "      <td>179</td>\n",
       "      <td>66</td>\n",
       "      <td>94</td>\n",
       "      <td>3.0</td>\n",
       "    </tr>\n",
       "    <tr>\n",
       "      <th>6</th>\n",
       "      <td>x001f010d001y001t001m001c001</td>\n",
       "      <td>1782</td>\n",
       "      <td>983</td>\n",
       "      <td>426</td>\n",
       "      <td>181</td>\n",
       "      <td>66</td>\n",
       "      <td>93</td>\n",
       "      <td>3.0</td>\n",
       "    </tr>\n",
       "  </tbody>\n",
       "</table>\n",
       "</div>"
      ],
      "text/plain": [
       "                    scenario_id   cnt  s90  s70  s50  s30  s10  fit_tm_min\n",
       "0  x001f004d001y001t001m001c001  1782  906  414  221  101  111         2.0\n",
       "1  x001f005d001y001t001m001c001  1782  979  428  179   66   94         3.0\n",
       "2  x001f006d001y001t001m001c001  1782  988  419  184   68   92         3.0\n",
       "3  x001f007d001y001t001m001c001  1782  983  426  181   66   93         3.0\n",
       "4  x001f008d001y001t001m001c001  1782  983  426  181   66   93         3.0\n",
       "5  x001f009d001y001t001m001c001  1782  979  428  179   66   94         3.0\n",
       "6  x001f010d001y001t001m001c001  1782  983  426  181   66   93         3.0"
      ]
     },
     "execution_count": 23,
     "metadata": {},
     "output_type": "execute_result"
    }
   ],
   "source": [
    "df = spark.sql('''\n",
    "select scenario_id\n",
    "     , count(*) cnt\n",
    "     , count(case when score > 0.81 then 1 else null end) as s90       \n",
    "     , count(case when score between 0.61 and 0.80 then 1 else null end) as s70       \n",
    "     , count(case when score between 0.41 and 0.60 then 1 else null end) as s50       \n",
    "     , count(case when score between 0.21 and 0.40 then 1 else null end) as s30      \n",
    "     , count(case when score < 0.20 then 1 else null end) as s10\n",
    "     , round(sum(fit_tm_sec)/60)  as fit_tm_min\n",
    "from results       \n",
    "where 1=1 \n",
    "and scenario_id like'%t00%'\n",
    "and scenario_id like'%t001%'\n",
    "and scenario_id like'%x001%'\n",
    "and scenario_id like'%d001%'\n",
    "and scenario_id like'%m001%'\n",
    "group by scenario_id\n",
    "order by scenario_id\n",
    "''')\n",
    "pdf = df.toPandas()\n",
    "pdf.head(20)\n"
   ]
  },
  {
   "cell_type": "code",
   "execution_count": 56,
   "metadata": {},
   "outputs": [
    {
     "data": {
      "text/html": [
       "<table><tr style=\"border-bottom: 1px solid\"><td style=\"font-weight: bold\">avg(CAST(rmsle AS DOUBLE))</td></tr><tr><td>0.44101010101010085</td></tr></table>"
      ],
      "text/plain": [
       "<IPython.core.display.HTML object>"
      ]
     },
     "execution_count": 56,
     "metadata": {},
     "output_type": "execute_result"
    }
   ],
   "source": [
    "%%sparksql\n",
    "--select store_nbr, family2, scenario_id,score,rmsle,predict_y,test_y,r2, mae,mse,rmse,msle\n",
    "select avg(rmsle)\n",
    "from results       \n",
    "where 1=1 \n",
    "and scenario_id like'x001f005d001y001t001m001c001'\n",
    "and rmsle between = 0.11\n",
    "--and rmsle = 0.11\n",
    "\n"
   ]
  },
  {
   "cell_type": "code",
   "execution_count": 52,
   "metadata": {},
   "outputs": [
    {
     "data": {
      "text/html": [
       "<table><tr style=\"border-bottom: 1px solid\"><td style=\"font-weight: bold\">rmsle</td><td style=\"font-weight: bold\">cnt</td></tr><tr><td>0.0</td><td>127</td></tr><tr><td>0.1</td><td>1</td></tr><tr><td>0.11</td><td>2</td></tr><tr><td>0.12</td><td>1</td></tr><tr><td>0.13</td><td>2</td></tr><tr><td>0.14</td><td>9</td></tr><tr><td>0.15</td><td>5</td></tr><tr><td>0.16</td><td>9</td></tr><tr><td>0.17</td><td>17</td></tr><tr><td>0.18</td><td>33</td></tr><tr><td>0.19</td><td>12</td></tr><tr><td>0.2</td><td>17</td></tr><tr><td>0.21</td><td>22</td></tr><tr><td>0.22</td><td>26</td></tr><tr><td>0.23</td><td>26</td></tr><tr><td>0.24</td><td>31</td></tr><tr><td>0.25</td><td>39</td></tr><tr><td>0.26</td><td>35</td></tr><tr><td>0.27</td><td>31</td></tr><tr><td>0.28</td><td>30</td></tr><tr><td>0.29</td><td>42</td></tr><tr><td>0.3</td><td>33</td></tr><tr><td>0.31</td><td>43</td></tr><tr><td>0.32</td><td>35</td></tr><tr><td>0.33</td><td>35</td></tr><tr><td>0.34</td><td>32</td></tr><tr><td>0.35</td><td>46</td></tr><tr><td>0.36</td><td>39</td></tr><tr><td>0.37</td><td>28</td></tr><tr><td>0.38</td><td>40</td></tr><tr><td>0.39</td><td>31</td></tr><tr><td>0.4</td><td>32</td></tr><tr><td>0.41</td><td>25</td></tr><tr><td>0.42</td><td>28</td></tr><tr><td>0.43</td><td>27</td></tr><tr><td>0.44</td><td>32</td></tr><tr><td>0.45</td><td>22</td></tr><tr><td>0.46</td><td>28</td></tr><tr><td>0.47</td><td>30</td></tr><tr><td>0.48</td><td>22</td></tr><tr><td>0.49</td><td>25</td></tr><tr><td>0.5</td><td>28</td></tr><tr><td>0.51</td><td>35</td></tr><tr><td>0.52</td><td>24</td></tr><tr><td>0.53</td><td>16</td></tr><tr><td>0.54</td><td>22</td></tr><tr><td>0.55</td><td>25</td></tr><tr><td>0.56</td><td>23</td></tr><tr><td>0.57</td><td>22</td></tr><tr><td>0.58</td><td>20</td></tr><tr><td>0.59</td><td>14</td></tr><tr><td>0.6</td><td>13</td></tr><tr><td>0.61</td><td>22</td></tr><tr><td>0.62</td><td>18</td></tr><tr><td>0.63</td><td>22</td></tr><tr><td>0.64</td><td>21</td></tr><tr><td>0.65</td><td>9</td></tr><tr><td>0.66</td><td>18</td></tr><tr><td>0.67</td><td>10</td></tr><tr><td>0.68</td><td>11</td></tr><tr><td>0.69</td><td>17</td></tr><tr><td>0.7</td><td>12</td></tr><tr><td>0.71</td><td>15</td></tr><tr><td>0.72</td><td>8</td></tr><tr><td>0.73</td><td>13</td></tr><tr><td>0.74</td><td>10</td></tr><tr><td>0.75</td><td>5</td></tr><tr><td>0.76</td><td>12</td></tr><tr><td>0.77</td><td>5</td></tr><tr><td>0.78</td><td>8</td></tr><tr><td>0.79</td><td>7</td></tr><tr><td>0.8</td><td>13</td></tr><tr><td>0.81</td><td>5</td></tr><tr><td>0.82</td><td>5</td></tr><tr><td>0.83</td><td>1</td></tr><tr><td>0.84</td><td>7</td></tr><tr><td>0.85</td><td>6</td></tr><tr><td>0.86</td><td>3</td></tr><tr><td>0.87</td><td>5</td></tr><tr><td>0.88</td><td>2</td></tr><tr><td>0.89</td><td>4</td></tr><tr><td>0.9</td><td>8</td></tr><tr><td>0.91</td><td>3</td></tr><tr><td>0.92</td><td>5</td></tr><tr><td>0.93</td><td>4</td></tr><tr><td>0.94</td><td>2</td></tr><tr><td>0.95</td><td>4</td></tr><tr><td>0.96</td><td>4</td></tr><tr><td>0.97</td><td>4</td></tr><tr><td>0.98</td><td>2</td></tr><tr><td>0.99</td><td>2</td></tr><tr><td>1.0</td><td>2</td></tr><tr><td>1.01</td><td>5</td></tr><tr><td>1.03</td><td>1</td></tr><tr><td>1.04</td><td>4</td></tr><tr><td>1.05</td><td>1</td></tr><tr><td>1.06</td><td>3</td></tr><tr><td>1.07</td><td>1</td></tr><tr><td>1.08</td><td>2</td></tr><tr><td>1.11</td><td>1</td></tr><tr><td>1.12</td><td>1</td></tr><tr><td>1.13</td><td>3</td></tr><tr><td>1.14</td><td>1</td></tr><tr><td>1.19</td><td>1</td></tr><tr><td>1.21</td><td>2</td></tr><tr><td>1.24</td><td>2</td></tr><tr><td>1.25</td><td>1</td></tr><tr><td>1.26</td><td>1</td></tr><tr><td>1.27</td><td>1</td></tr><tr><td>1.28</td><td>1</td></tr><tr><td>1.31</td><td>2</td></tr><tr><td>1.32</td><td>1</td></tr><tr><td>1.36</td><td>1</td></tr><tr><td>1.4</td><td>1</td></tr><tr><td>1.43</td><td>1</td></tr><tr><td>1.47</td><td>1</td></tr><tr><td>1.48</td><td>1</td></tr><tr><td>1.51</td><td>1</td></tr><tr><td>1.52</td><td>2</td></tr><tr><td>1.55</td><td>1</td></tr><tr><td>1.56</td><td>1</td></tr><tr><td>1.59</td><td>1</td></tr><tr><td>1.62</td><td>1</td></tr><tr><td>1.63</td><td>1</td></tr><tr><td>1.64</td><td>1</td></tr><tr><td>1.65</td><td>1</td></tr><tr><td>1.66</td><td>1</td></tr><tr><td>1.74</td><td>1</td></tr><tr><td>1.75</td><td>1</td></tr><tr><td>1.79</td><td>1</td></tr><tr><td>1.82</td><td>1</td></tr><tr><td>2.15</td><td>1</td></tr></table>"
      ],
      "text/plain": [
       "<IPython.core.display.HTML object>"
      ]
     },
     "execution_count": 52,
     "metadata": {},
     "output_type": "execute_result"
    }
   ],
   "source": [
    "%%sparksql\n",
    "select rmsle, count(*) cnt\n",
    "from results       \n",
    "where 1=1 \n",
    "and scenario_id like'x001f005d001y001t001m001c001'\n",
    "group by rmsle\n",
    "order by rmsle\n",
    "limit 700"
   ]
  },
  {
   "cell_type": "code",
   "execution_count": 47,
   "metadata": {},
   "outputs": [
    {
     "data": {
      "text/html": [
       "<table><tr style=\"border-bottom: 1px solid\"><td style=\"font-weight: bold\">store_nbr</td><td style=\"font-weight: bold\">family2</td><td style=\"font-weight: bold\">scenario_id</td><td style=\"font-weight: bold\">score</td><td style=\"font-weight: bold\">rmsle</td><td style=\"font-weight: bold\">predict_y</td><td style=\"font-weight: bold\">test_y</td><td style=\"font-weight: bold\">r2</td><td style=\"font-weight: bold\">mae</td><td style=\"font-weight: bold\">mse</td><td style=\"font-weight: bold\">rmse</td><td style=\"font-weight: bold\">msle</td></tr><tr><td>1</td><td>1</td><td>x001f005d001y001t001m001c001</td><td>0.73</td><td>0.52</td><td>[5,4,4,4,4,4,5,5,4,4,4,4,3,5,4]</td><td>[5,4,3,8,5,6,7,4,7,9,1,6,1,1,4]</td><td>-0.06</td><td>2.0</td><td>6.27</td><td>2.5</td><td>0.27</td></tr><tr><td>1</td><td>2</td><td>x001f005d001y001t001m001c001</td><td>1.0</td><td>0.0</td><td>[0,0,0,0,0,0,0,0,0,0,0,0,0,0,0]</td><td>[0,0,0,0,0,0,0,0,0,0,0,0,0,0,0]</td><td>1.0</td><td>0.0</td><td>0.0</td><td>0.0</td><td>0.0</td></tr><tr><td>1</td><td>3</td><td>x001f005d001y001t001m001c001</td><td>0.8</td><td>0.44</td><td>[3,4,4,4,4,4,4,4,4,4,4,4,2,4,4]</td><td>[4,2,5,7,3,2,5,2,4,10,1,3,1,6,4]</td><td>0.08</td><td>1.73</td><td>5.07</td><td>2.25</td><td>0.2</td></tr><tr><td>1</td><td>4</td><td>x001f005d001y001t001m001c001</td><td>0.85</td><td>0.39</td><td>[2616,2522,2328,2257,2151,2050,2586,2497,2408,2314,2207,2142,2041,2588,2511]</td><td>[2627,2645,2037,2479,2093,968,2086,2418,2311,2377,1006,1659,803,2201,1942]</td><td>-0.03</td><td>426.93</td><td>351652.4</td><td>593.0</td><td>0.15</td></tr><tr><td>1</td><td>5</td><td>x001f005d001y001t001m001c001</td><td>1.0</td><td>0.0</td><td>[0,0,0,0,0,0,0,0,0,0,0,0,0,0,0]</td><td>[0,0,0,0,0,0,0,0,0,0,0,0,0,0,0]</td><td>1.0</td><td>0.0</td><td>0.0</td><td>0.0</td><td>0.0</td></tr><tr><td>1</td><td>6</td><td>x001f005d001y001t001m001c001</td><td>0.77</td><td>0.48</td><td>[444,418,419,397,364,334,492,478,452,431,397,364,338,504,474]</td><td>[373,428,282,385,271,144,328,361,399,417,145,243,136,346,329]</td><td>-0.99</td><td>115.93</td><td>18488.73</td><td>135.97</td><td>0.23</td></tr><tr><td>1</td><td>7</td><td>x001f005d001y001t001m001c001</td><td>-0.12</td><td>1.06</td><td>[21,20,19,18,17,16,23,22,21,20,18,17,16,24,22]</td><td>[11,7,10,24,12,2,18,11,12,17,4,3,1,4,21]</td><td>-1.61</td><td>9.93</td><td>124.07</td><td>11.14</td><td>1.12</td></tr><tr><td>1</td><td>8</td><td>x001f005d001y001t001m001c001</td><td>0.83</td><td>0.42</td><td>[829,768,687,635,576,508,854,797,736,683,612,555,489,840,779]</td><td>[867,942,622,729,442,233,741,767,651,696,341,351,169,571,703]</td><td>0.39</td><td>144.07</td><td>30334.6</td><td>174.17</td><td>0.17</td></tr><tr><td>1</td><td>9</td><td>x001f005d001y001t001m001c001</td><td>0.78</td><td>0.47</td><td>[897,859,822,784,746,707,935,897,859,821,782,744,706,934,895]</td><td>[668,941,529,767,624,312,717,569,789,736,343,526,266,699,602]</td><td>-1.12</td><td>230.93</td><td>70557.6</td><td>265.63</td><td>0.22</td></tr><tr><td>1</td><td>10</td><td>x001f005d001y001t001m001c001</td><td>0.88</td><td>0.35</td><td>[149,140,129,176,114,99,157,148,141,133,157,111,103,160,149]</td><td>[133,150,106,170,104,60,138,130,123,139,64,99,47,154,116]</td><td>0.09</td><td>24.33</td><td>1109.4</td><td>33.31</td><td>0.12</td></tr><tr><td>1</td><td>11</td><td>x001f005d001y001t001m001c001</td><td>0.9</td><td>0.31</td><td>[143,136,129,153,114,107,149,142,135,128,149,113,106,149,141]</td><td>[161,160,120,143,155,47,152,130,134,114,86,113,60,170,131]</td><td>0.29</td><td>22.13</td><td>889.2</td><td>29.82</td><td>0.1</td></tr><tr><td>1</td><td>12</td><td>x001f005d001y001t001m001c001</td><td>0.75</td><td>0.5</td><td>[155,157,143,138,132,127,158,160,147,149,144,138,132,164,166]</td><td>[144,200,132,143,155,40,136,134,154,167,61,107,50,110,89]</td><td>-0.23</td><td>38.67</td><td>2344.4</td><td>48.42</td><td>0.25</td></tr><tr><td>1</td><td>13</td><td>x001f005d001y001t001m001c001</td><td>0.87</td><td>0.36</td><td>[3111,3040,2670,2549,2342,2179,3237,3009,2924,2654,2440,2305,2077,3107,2936]</td><td>[2872,3247,2177,2778,2034,1025,2551,3062,2719,2591,1270,1630,952,2407,2508]</td><td>0.18</td><td>515.67</td><td>406984.87</td><td>637.95</td><td>0.13</td></tr><tr><td>1</td><td>14</td><td>x001f005d001y001t001m001c001</td><td>0.84</td><td>0.4</td><td>[24,23,21,19,17,15,26,24,22,20,19,17,15,26,24]</td><td>[25,26,24,9,13,11,19,23,20,23,9,19,6,20,13]</td><td>0.08</td><td>5.07</td><td>37.07</td><td>6.09</td><td>0.16</td></tr><tr><td>1</td><td>15</td><td>x001f005d001y001t001m001c001</td><td>0.65</td><td>0.59</td><td>[2,2,1,1,1,1,2,2,2,1,1,1,1,2,2]</td><td>[0,1,3,4,0,2,2,3,3,1,1,0,1,0,3]</td><td>-0.09</td><td>1.07</td><td>1.87</td><td>1.37</td><td>0.35</td></tr><tr><td>1</td><td>16</td><td>x001f005d001y001t001m001c001</td><td>0.51</td><td>0.7</td><td>[31,31,27,27,26,25,29,29,29,27,27,26,25,29,29]</td><td>[20,38,20,49,10,2,19,22,29,39,27,17,13,50,30]</td><td>0.08</td><td>10.53</td><td>163.2</td><td>12.77</td><td>0.49</td></tr><tr><td>1</td><td>17</td><td>x001f005d001y001t001m001c001</td><td>0.72</td><td>0.53</td><td>[36,27,34,33,24,27,37,36,35,38,28,35,26,36,39]</td><td>[38,18,26,22,25,8,24,27,16,31,14,31,8,31,33]</td><td>-0.64</td><td>9.67</td><td>125.93</td><td>11.22</td><td>0.28</td></tr><tr><td>1</td><td>18</td><td>x001f005d001y001t001m001c001</td><td>1.0</td><td>0.0</td><td>[0,0,0,0,0,0,0,0,0,0,0,0,0,0,0]</td><td>[0,0,0,0,0,0,0,0,0,0,0,0,0,0,0]</td><td>1.0</td><td>0.0</td><td>0.0</td><td>0.0</td><td>0.0</td></tr><tr><td>1</td><td>19</td><td>x001f005d001y001t001m001c001</td><td>0.72</td><td>0.53</td><td>[228,219,215,204,198,191,233,230,223,210,208,198,194,238,230]</td><td>[241,277,169,168,158,77,168,208,161,170,74,116,61,161,156]</td><td>-0.75</td><td>66.4</td><td>5697.87</td><td>75.48</td><td>0.28</td></tr><tr><td>1</td><td>20</td><td>x001f005d001y001t001m001c001</td><td>0.6</td><td>0.63</td><td>[20,19,18,17,16,16,21,20,19,18,17,16,16,20,20]</td><td>[12,18,13,10,16,6,19,19,31,7,3,9,7,17,9]</td><td>-0.36</td><td>6.73</td><td>64.33</td><td>8.02</td><td>0.4</td></tr><tr><td>1</td><td>21</td><td>x001f005d001y001t001m001c001</td><td>0.88</td><td>0.35</td><td>[13,27,12,12,12,12,13,13,24,13,12,14,12,13,13]</td><td>[22,31,10,17,17,9,10,19,20,22,15,10,8,27,17]</td><td>0.15</td><td>5.27</td><td>37.0</td><td>6.08</td><td>0.12</td></tr><tr><td>1</td><td>22</td><td>x001f005d001y001t001m001c001</td><td>0.02</td><td>0.99</td><td>[5,4,4,3,3,2,5,5,4,4,3,2,2,5,5]</td><td>[21,10,2,13,2,16,5,16,0,8,1,8,3,21,4]</td><td>-0.44</td><td>6.27</td><td>69.6</td><td>8.34</td><td>0.98</td></tr><tr><td>1</td><td>23</td><td>x001f005d001y001t001m001c001</td><td>0.7</td><td>0.55</td><td>[121,114,114,120,134,113,123,116,136,143,115,142,121,146,152]</td><td>[73,81,93,155,116,41,58,87,99,142,67,90,35,100,94]</td><td>-1.3</td><td>43.27</td><td>2325.8</td><td>48.23</td><td>0.3</td></tr><tr><td>1</td><td>24</td><td>x001f005d001y001t001m001c001</td><td>0.69</td><td>0.56</td><td>[8,8,7,7,7,7,8,8,8,8,8,8,7,8,8]</td><td>[5,7,5,2,13,4,16,9,2,7,4,6,4,8,3]</td><td>-0.1</td><td>3.33</td><td>16.0</td><td>4.0</td><td>0.31</td></tr><tr><td>1</td><td>25</td><td>x001f005d001y001t001m001c001</td><td>0.86</td><td>0.38</td><td>[246,231,215,611,183,168,264,248,232,216,526,185,169,265,249]</td><td>[336,270,272,639,481,116,236,226,373,243,385,211,88,192,274]</td><td>0.41</td><td>75.2</td><td>10674.13</td><td>103.32</td><td>0.14</td></tr><tr><td>1</td><td>26</td><td>x001f005d001y001t001m001c001</td><td>0.78</td><td>0.47</td><td>[188,181,169,161,150,138,197,186,177,166,154,146,135,193,183]</td><td>[166,169,149,138,154,74,187,239,288,183,53,227,45,159,173]</td><td>0.23</td><td>43.47</td><td>3153.73</td><td>56.16</td><td>0.22</td></tr><tr><td>1</td><td>27</td><td>x001f005d001y001t001m001c001</td><td>0.67</td><td>0.57</td><td>[7,7,7,7,6,6,7,7,7,7,7,6,6,7,7]</td><td>[4,2,2,7,5,3,4,6,7,5,5,3,2,3,3]</td><td>-2.52</td><td>2.67</td><td>9.6</td><td>3.1</td><td>0.33</td></tr><tr><td>1</td><td>28</td><td>x001f005d001y001t001m001c001</td><td>0.29</td><td>0.84</td><td>[12,12,12,11,11,10,13,12,12,11,11,11,10,13,11]</td><td>[12,12,7,5,9,4,7,4,12,11,3,6,0,6,21]</td><td>-0.47</td><td>4.87</td><td>35.93</td><td>5.99</td><td>0.71</td></tr><tr><td>1</td><td>29</td><td>x001f005d001y001t001m001c001</td><td>0.88</td><td>0.35</td><td>[337,318,299,503,261,243,353,334,316,297,495,259,240,351,332]</td><td>[312,375,233,481,257,117,364,277,289,268,259,217,115,270,234]</td><td>0.01</td><td>67.07</td><td>7919.73</td><td>88.99</td><td>0.12</td></tr><tr><td>1</td><td>30</td><td>x001f005d001y001t001m001c001</td><td>0.68</td><td>0.57</td><td>[90,86,83,79,76,73,93,89,86,83,79,76,72,93,89]</td><td>[81,63,57,60,66,39,69,84,51,97,24,48,20,72,42]</td><td>-1.17</td><td>26.8</td><td>939.2</td><td>30.65</td><td>0.32</td></tr><tr><td>1</td><td>31</td><td>x001f005d001y001t001m001c001</td><td>0.79</td><td>0.45</td><td>[2903,4967,2766,2723,2619,2536,2911,2858,4891,2752,2668,2605,2521,2937,2854]</td><td>[2560,4375,1925,2702,2126,1027,2416,2137,3855,2261,1115,1762,986,2611,2240]</td><td>0.05</td><td>760.87</td><td>782477.53</td><td>884.58</td><td>0.21</td></tr><tr><td>1</td><td>32</td><td>x001f005d001y001t001m001c001</td><td>1.0</td><td>0.0</td><td>[0,0,0,0,0,0,0,0,0,0,0,0,0,0,0]</td><td>[0,0,0,0,0,0,0,0,0,0,0,0,0,0,0]</td><td>1.0</td><td>0.0</td><td>0.0</td><td>0.0</td><td>0.0</td></tr><tr><td>1</td><td>33</td><td>x001f005d001y001t001m001c001</td><td>0.79</td><td>0.45</td><td>[23,23,22,39,20,19,24,23,22,21,33,19,19,23,23]</td><td>[33,24,33,33,17,11,32,74,21,39,19,20,11,14,22]</td><td>-0.06</td><td>10.0</td><td>244.27</td><td>15.63</td><td>0.21</td></tr><tr><td>2</td><td>1</td><td>x001f005d001y001t001m001c001</td><td>0.53</td><td>0.69</td><td>[6,6,7,7,8,8,6,6,6,7,7,8,8,6,6]</td><td>[2,6,0,10,10,11,3,5,10,9,14,7,9,4,2]</td><td>0.18</td><td>2.93</td><td>12.53</td><td>3.54</td><td>0.47</td></tr><tr><td>2</td><td>2</td><td>x001f005d001y001t001m001c001</td><td>1.0</td><td>0.0</td><td>[0,0,0,0,0,0,0,0,0,0,0,0,0,0,0]</td><td>[0,0,0,0,0,0,0,0,0,0,0,0,0,0,0]</td><td>1.0</td><td>0.0</td><td>0.0</td><td>0.0</td><td>0.0</td></tr><tr><td>2</td><td>3</td><td>x001f005d001y001t001m001c001</td><td>0.93</td><td>0.26</td><td>[5,9,9,8,8,9,6,7,7,7,8,8,8,6,6]</td><td>[8,9,10,5,8,13,4,10,10,9,8,7,10,7,9]</td><td>-0.12</td><td>1.87</td><td>5.07</td><td>2.25</td><td>0.07</td></tr><tr><td>2</td><td>4</td><td>x001f005d001y001t001m001c001</td><td>0.87</td><td>0.36</td><td>[3495,3689,3855,4050,4246,4444,3246,3438,3632,3830,4019,4212,4409,3215,3402]</td><td>[3141,3394,2304,2785,3150,3594,2547,2433,2324,2936,2390,2649,2947,2559,2093]</td><td>-6.38</td><td>1062.4</td><td>1301898.67</td><td>1141.01</td><td>0.13</td></tr><tr><td>2</td><td>5</td><td>x001f005d001y001t001m001c001</td><td>1.0</td><td>0.0</td><td>[0,0,0,0,0,0,0,0,0,0,0,0,0,0,0]</td><td>[0,0,0,0,0,0,0,0,0,0,0,0,0,0,0]</td><td>1.0</td><td>0.0</td><td>0.0</td><td>0.0</td><td>0.0</td></tr><tr><td>2</td><td>6</td><td>x001f005d001y001t001m001c001</td><td>0.93</td><td>0.26</td><td>[741,772,807,841,871,901,711,742,771,803,832,865,896,705,736]</td><td>[678,656,609,664,639,748,606,586,598,501,601,637,642,597,607]</td><td>-11.69</td><td>175.0</td><td>34656.73</td><td>186.16</td><td>0.07</td></tr><tr><td>2</td><td>7</td><td>x001f005d001y001t001m001c001</td><td>0.66</td><td>0.58</td><td>[15,16,17,17,18,19,15,15,16,17,17,18,19,15,16]</td><td>[9,9,4,26,13,9,8,7,10,16,11,12,16,7,8]</td><td>-1.09</td><td>6.87</td><td>54.6</td><td>7.39</td><td>0.34</td></tr><tr><td>2</td><td>8</td><td>x001f005d001y001t001m001c001</td><td>0.88</td><td>0.34</td><td>[1016,1054,1086,1126,1164,1205,936,973,1010,1052,1092,1128,1163,899,938]</td><td>[1128,1071,847,900,890,1008,789,716,691,575,678,659,752,730,659]</td><td>-2.51</td><td>267.13</td><td>87902.87</td><td>296.48</td><td>0.12</td></tr><tr><td>2</td><td>9</td><td>x001f005d001y001t001m001c001</td><td>0.86</td><td>0.37</td><td>[1075,1138,1148,1188,1239,1290,939,994,1053,1120,1171,1241,1293,930,985]</td><td>[859,870,686,895,856,1051,779,674,726,597,790,734,892,738,703]</td><td>-8.82</td><td>330.27</td><td>120629.33</td><td>347.32</td><td>0.14</td></tr><tr><td>2</td><td>10</td><td>x001f005d001y001t001m001c001</td><td>0.87</td><td>0.37</td><td>[262,277,293,305,324,340,241,256,272,288,300,319,334,235,251]</td><td>[187,227,152,276,285,257,203,183,198,136,212,251,192,188,232]</td><td>-3.19</td><td>74.53</td><td>7180.8</td><td>84.74</td><td>0.13</td></tr><tr><td>2</td><td>11</td><td>x001f005d001y001t001m001c001</td><td>0.97</td><td>0.18</td><td>[169,184,199,186,230,245,150,166,181,196,184,227,242,147,163]</td><td>[175,183,147,194,195,241,175,142,147,139,138,179,208,155,154]</td><td>-0.25</td><td>26.07</td><td>1024.87</td><td>32.01</td><td>0.03</td></tr><tr><td>2</td><td>12</td><td>x001f005d001y001t001m001c001</td><td>0.68</td><td>0.56</td><td>[157,169,163,156,188,200,136,148,161,173,185,198,210,146,158]</td><td>[76,125,77,150,138,145,56,99,99,73,133,118,98,108,79]</td><td>-5.16</td><td>64.93</td><td>4895.47</td><td>69.97</td><td>0.32</td></tr><tr><td>2</td><td>13</td><td>x001f005d001y001t001m001c001</td><td>0.88</td><td>0.35</td><td>[5095,5211,5172,5304,5420,5568,4726,4827,4951,4950,5129,5222,5323,4544,4629]</td><td>[4287,4352,3558,3874,3929,4732,3549,3228,3197,2780,3574,3366,3735,3343,3212]</td><td>-7.71</td><td>1423.67</td><td>2168330.6</td><td>1472.53</td><td>0.12</td></tr><tr><td>2</td><td>14</td><td>x001f005d001y001t001m001c001</td><td>0.75</td><td>0.5</td><td>[40,43,37,40,42,45,30,32,35,37,40,42,45,30,33]</td><td>[72,40,25,20,25,44,30,7,20,42,29,39,41,28,21]</td><td>0.05</td><td>10.8</td><td>202.4</td><td>14.23</td><td>0.25</td></tr><tr><td>2</td><td>15</td><td>x001f005d001y001t001m001c001</td><td>0.64</td><td>0.6</td><td>[1,1,1,1,1,1,1,1,1,1,1,1,1,1,1]</td><td>[2,0,0,5,4,1,0,1,0,4,3,1,1,1,1]</td><td>-0.14</td><td>1.13</td><td>2.87</td><td>1.69</td><td>0.36</td></tr><tr><td>2</td><td>16</td><td>x001f005d001y001t001m001c001</td><td>0.71</td><td>0.54</td><td>[33,36,34,34,35,37,29,31,32,34,35,35,38,29,30]</td><td>[19,26,19,21,27,27,7,15,18,20,25,28,33,19,19]</td><td>-3.25</td><td>11.93</td><td>158.73</td><td>12.6</td><td>0.29</td></tr><tr><td>2</td><td>17</td><td>x001f005d001y001t001m001c001</td><td>0.64</td><td>0.6</td><td>[28,30,31,25,27,34,27,28,36,37,32,33,34,27,28]</td><td>[38,35,15,13,13,32,23,19,136,22,25,12,87,31,26]</td><td>0.08</td><td>18.27</td><td>957.73</td><td>30.95</td><td>0.36</td></tr><tr><td>2</td><td>18</td><td>x001f005d001y001t001m001c001</td><td>1.0</td><td>0.0</td><td>[0,0,0,0,0,0,0,0,0,0,0,0,0,0,0]</td><td>[0,0,0,0,0,0,0,0,0,0,0,0,0,0,0]</td><td>1.0</td><td>0.0</td><td>0.0</td><td>0.0</td><td>0.0</td></tr><tr><td>2</td><td>19</td><td>x001f005d001y001t001m001c001</td><td>0.73</td><td>0.52</td><td>[342,346,366,385,389,393,346,366,364,363,382,392,401,348,363]</td><td>[300,324,216,227,255,333,207,195,196,193,183,220,234,221,187]</td><td>-8.56</td><td>137.0</td><td>21408.87</td><td>146.32</td><td>0.27</td></tr><tr><td>2</td><td>20</td><td>x001f005d001y001t001m001c001</td><td>0.62</td><td>0.62</td><td>[31,33,36,38,40,42,29,31,33,35,37,39,41,29,31]</td><td>[23,28,22,20,35,40,12,16,13,11,14,30,25,18,15]</td><td>-2.15</td><td>13.53</td><td>224.73</td><td>14.99</td><td>0.38</td></tr><tr><td>2</td><td>21</td><td>x001f005d001y001t001m001c001</td><td>0.68</td><td>0.56</td><td>[9,15,11,11,12,14,8,9,19,10,11,12,13,8,8]</td><td>[18,20,15,21,13,31,11,3,14,17,10,32,23,10,21]</td><td>-0.52</td><td>7.53</td><td>87.0</td><td>9.33</td><td>0.32</td></tr><tr><td>2</td><td>22</td><td>x001f005d001y001t001m001c001</td><td>0.66</td><td>0.58</td><td>[3,11,4,4,5,7,5,8,3,6,4,7,10,4,5]</td><td>[2,11,2,0,7,5,3,6,7,2,8,6,8,4,3]</td><td>0.25</td><td>2.13</td><td>6.27</td><td>2.5</td><td>0.34</td></tr><tr><td>2</td><td>23</td><td>x001f005d001y001t001m001c001</td><td>0.75</td><td>0.5</td><td>[86,100,114,123,137,134,75,96,110,112,150,147,161,103,99]</td><td>[43,47,60,135,134,77,28,56,90,118,157,159,100,58,65]</td><td>0.14</td><td>32.93</td><td>1487.73</td><td>38.57</td><td>0.25</td></tr><tr><td>2</td><td>24</td><td>x001f005d001y001t001m001c001</td><td>0.7</td><td>0.55</td><td>[9,9,9,10,10,10,8,9,9,9,10,10,11,8,9]</td><td>[5,6,1,7,13,18,14,9,14,14,8,13,11,13,15]</td><td>-0.13</td><td>4.07</td><td>22.07</td><td>4.7</td><td>0.3</td></tr><tr><td>2</td><td>25</td><td>x001f005d001y001t001m001c001</td><td>0.9</td><td>0.32</td><td>[436,454,463,895,473,482,418,427,437,446,834,465,474,410,419]</td><td>[459,417,287,1545,426,435,300,390,401,894,977,304,315,433,357]</td><td>0.55</td><td>144.47</td><td>50207.27</td><td>224.07</td><td>0.1</td></tr><tr><td>2</td><td>26</td><td>x001f005d001y001t001m001c001</td><td>0.89</td><td>0.33</td><td>[321,313,328,348,366,372,278,299,308,334,340,355,367,264,288]</td><td>[318,338,274,230,274,370,267,217,220,144,353,225,277,206,202]</td><td>-1.0</td><td>69.47</td><td>7504.0</td><td>86.63</td><td>0.11</td></tr><tr><td>2</td><td>27</td><td>x001f005d001y001t001m001c001</td><td>0.7</td><td>0.55</td><td>[11,11,11,12,12,12,10,11,11,11,12,12,12,10,11]</td><td>[10,10,6,3,4,10,12,11,13,10,18,9,6,9,3]</td><td>-0.45</td><td>3.67</td><td>22.07</td><td>4.7</td><td>0.3</td></tr><tr><td>2</td><td>28</td><td>x001f005d001y001t001m001c001</td><td>0.78</td><td>0.46</td><td>[11,11,11,12,12,12,10,11,11,11,12,12,12,10,10]</td><td>[13,16,3,7,9,19,9,8,8,7,5,8,11,7,6]</td><td>-0.23</td><td>4.0</td><td>20.13</td><td>4.49</td><td>0.22</td></tr><tr><td>2</td><td>29</td><td>x001f005d001y001t001m001c001</td><td>0.9</td><td>0.32</td><td>[535,565,597,758,654,683,495,524,554,584,732,643,673,484,514]</td><td>[447,467,399,667,484,553,383,392,398,358,533,359,470,461,365]</td><td>-2.86</td><td>150.6</td><td>26680.6</td><td>163.34</td><td>0.1</td></tr><tr><td>2</td><td>30</td><td>x001f005d001y001t001m001c001</td><td>0.87</td><td>0.36</td><td>[125,135,146,157,168,178,113,123,134,145,156,166,177,111,122]</td><td>[86,146,101,91,117,115,112,109,109,73,128,130,101,115,90]</td><td>-4.97</td><td>37.53</td><td>1966.33</td><td>44.34</td><td>0.13</td></tr><tr><td>2</td><td>31</td><td>x001f005d001y001t001m001c001</td><td>0.82</td><td>0.42</td><td>[3094,4687,3285,3362,3425,3525,2950,3035,4621,3233,3318,3417,3502,2928,3027]</td><td>[2465,3532,2035,2181,2396,3017,2212,1737,2905,1593,2028,2159,2476,2104,2006]</td><td>-4.55</td><td>1104.2</td><td>1325886.2</td><td>1151.47</td><td>0.18</td></tr><tr><td>2</td><td>32</td><td>x001f005d001y001t001m001c001</td><td>0.74</td><td>0.51</td><td>[0,0,1,1,1,1,0,0,0,1,1,1,1,0,0]</td><td>[0,0,0,0,0,0,0,0,0,0,0,0,0,0,0]</td><td>0.0</td><td>0.53</td><td>0.53</td><td>0.73</td><td>0.26</td></tr><tr><td>2</td><td>33</td><td>x001f005d001y001t001m001c001</td><td>0.94</td><td>0.25</td><td>[34,36,38,50,42,44,32,33,35,37,46,41,43,31,33]</td><td>[39,37,33,47,47,48,31,28,42,22,25,26,44,34,32]</td><td>-0.05</td><td>6.13</td><td>71.87</td><td>8.48</td><td>0.06</td></tr><tr><td>3</td><td>1</td><td>x001f005d001y001t001m001c001</td><td>0.82</td><td>0.43</td><td>[10,11,12,13,14,15,9,10,11,12,13,14,14,9,10]</td><td>[23,11,12,10,12,16,11,13,6,3,10,9,15,7,12]</td><td>-0.14</td><td>3.4</td><td>23.0</td><td>4.8</td><td>0.18</td></tr><tr><td>3</td><td>2</td><td>x001f005d001y001t001m001c001</td><td>0.58</td><td>0.65</td><td>[1,1,1,1,1,1,1,1,1,1,1,1,1,1,1]</td><td>[0,2,1,2,1,4,4,0,0,0,0,0,0,0,0]</td><td>-0.0</td><td>1.13</td><td>1.93</td><td>1.39</td><td>0.42</td></tr><tr><td>3</td><td>3</td><td>x001f005d001y001t001m001c001</td><td>0.92</td><td>0.28</td><td>[13,17,16,19,20,21,13,14,15,18,17,20,21,14,14]</td><td>[15,14,12,18,20,34,18,13,13,16,13,12,26,27,13]</td><td>0.16</td><td>4.27</td><td>33.87</td><td>5.82</td><td>0.08</td></tr><tr><td>3</td><td>4</td><td>x001f005d001y001t001m001c001</td><td>0.9</td><td>0.32</td><td>[9676,10253,10747,11281,11809,12338,9032,9564,10095,10627,11157,11684,12215,8912,9441]</td><td>[8192,8217,7267,7967,10187,10600,7610,6704,6825,6694,7032,7685,8423,7859,6915]</td><td>-5.55</td><td>2710.27</td><td>8422101.6</td><td>2902.09</td><td>0.1</td></tr></table>"
      ],
      "text/plain": [
       "<IPython.core.display.HTML object>"
      ]
     },
     "execution_count": 47,
     "metadata": {},
     "output_type": "execute_result"
    }
   ],
   "source": [
    "%%sparksql\n",
    "select store_nbr, family2, scenario_id,score,rmsle,predict_y,test_y,r2, mae,mse,rmse,msle\n",
    "from results       \n",
    "where 1=1 \n",
    "and scenario_id like'x001f005d001y001t001m001c001'\n",
    "--and store_nbr = 1\n",
    "--and family2 = 1\n",
    "--and scenario_id like'%f005%'\n",
    "--and scenario_id like'%t002%'\n",
    "--and rmsle is not null\n",
    "--and family2 between 21 and 40\n",
    "--and r2 between 0.1 and 0.3\n",
    "--and rmsle between 0.3 and 0.5\n",
    "order by cast(store_nbr as int), cast(family2 as int), rmsle \n",
    "--order by score desc, cast(store_nbr as int), cast(family2 as int), rmsle \n",
    "limit 70"
   ]
  },
  {
   "cell_type": "code",
   "execution_count": 25,
   "metadata": {},
   "outputs": [],
   "source": [
    "# df = spark.sql('''\n",
    "# with temp1 as (\n",
    "#     select store_nbr, family2\n",
    "#          , max(score) as score\n",
    "#          , min(scenario_id) as scenario_id_min\n",
    "#          , max(scenario_id) as scenario_id_max\n",
    "#     from  (select * \n",
    "#            from results\n",
    "#            where  length(predict_y) - length(replace(predict_y,',','')) + 1 > 10\n",
    "#            )\n",
    "#     where  1=1\n",
    "#     and    scenario_id like'%t00%'\n",
    "#     and    scenario_id like'%f005%'\n",
    "#     and    scenario_id = replace(replace(replace(scenario_id,'t001','t002'),'d001','d003'),'d002','d004')\n",
    "#     group by store_nbr, family2\n",
    "#     order by cast(store_nbr as int), cast(family2 as int)\n",
    "# ), temp2 as (\n",
    "#     select a.store_nbr, a.family2, a.scenario_id, a.score, a.predict_y\n",
    "#     from   results a,\n",
    "#            temp1 b\n",
    "#     where  a.store_nbr = b.store_nbr\n",
    "#     and    a.family2   = b.family2\n",
    "#     and    a.score     = b.score\n",
    "#     order by a.store_nbr, a.family2\n",
    "# ), temp3 as (\n",
    "#     select a.store_nbr, a.family2, min(a.scenario_id) as scenario_id, a.score,replace(replace(replace(min(a.scenario_id),'t001','t002'),'d001','d003'),'d002','d004') as scenario_id2\n",
    "#     from   temp2 a\n",
    "#     where  1=1\n",
    "#     --and    store_nbr = 20\n",
    "#     --and    family2 = 1\n",
    "#     group by a.store_nbr, a.family2, a.score\n",
    "#     order by cast(a.store_nbr as int), cast(a.family2 as int), a.score\n",
    "# ), temp4 as (\n",
    "#     select a.store_nbr, a.family2, a.scenario_id, a.score, replace(replace(a.predict_y,'['),']') as predict_y\n",
    "#     from   results a,\n",
    "#            temp3 b\n",
    "#     where  a.store_nbr = b.store_nbr\n",
    "#     and    a.family2   = b.family2\n",
    "#     and    a.scenario_id = b.scenario_id2\n",
    "#     order by cast(a.store_nbr as int), cast(a.family2 as int)\n",
    "# ), temp5 as (\n",
    "#     select  '20170816' as date8, store_nbr, family2 ,split(predict_y,',')[0]  sales, predict_y from temp4 union all\n",
    "#     select  '20170817' as date8, store_nbr, family2 ,split(predict_y,',')[1]  sales, predict_y from temp4 union all\n",
    "#     select  '20170818' as date8, store_nbr, family2 ,split(predict_y,',')[2]  sales, predict_y from temp4 union all\n",
    "#     select  '20170819' as date8, store_nbr, family2 ,split(predict_y,',')[3]  sales, predict_y from temp4 union all\n",
    "#     select  '20170820' as date8, store_nbr, family2 ,split(predict_y,',')[4]  sales, predict_y from temp4 union all\n",
    "#     select  '20170821' as date8, store_nbr, family2 ,split(predict_y,',')[5]  sales, predict_y from temp4 union all\n",
    "#     select  '20170822' as date8, store_nbr, family2 ,split(predict_y,',')[6]  sales, predict_y from temp4 union all\n",
    "#     select  '20170823' as date8, store_nbr, family2 ,split(predict_y,',')[7]  sales, predict_y from temp4 union all\n",
    "#     select  '20170824' as date8, store_nbr, family2 ,split(predict_y,',')[8]  sales, predict_y from temp4 union all\n",
    "#     select  '20170825' as date8, store_nbr, family2 ,split(predict_y,',')[9]  sales, predict_y from temp4 union all\n",
    "#     select  '20170826' as date8, store_nbr, family2 ,split(predict_y,',')[10] sales, predict_y from temp4 union all\n",
    "#     select  '20170827' as date8, store_nbr, family2 ,split(predict_y,',')[11] sales, predict_y from temp4 union all\n",
    "#     select  '20170828' as date8, store_nbr, family2 ,split(predict_y,',')[12] sales, predict_y from temp4 union all\n",
    "#     select  '20170829' as date8, store_nbr, family2 ,split(predict_y,',')[13] sales, predict_y from temp4 union all\n",
    "#     select  '20170830' as date8, store_nbr, family2 ,split(predict_y,',')[14] sales, predict_y from temp4 union all\n",
    "#     select  '20170831' as date8, store_nbr, family2 ,split(predict_y,',')[15] sales, predict_y from temp4\n",
    "# ), temp6 as (\n",
    "#     select  b.id, a.*, b.family\n",
    "#     from    temp5 a, \n",
    "#             train_master_all b\n",
    "#     where   a.store_nbr = b.store_nbr\n",
    "#     and     a.family2   = b.family2\n",
    "#     and     a.date8     = b.date8    \n",
    "# ), temp7 as (\n",
    "#     --select *\n",
    "#     select id, sales\n",
    "#     from   temp6 a\n",
    "#     order by a.id, cast(a.store_nbr as int), cast(a.family2 as int), date8\n",
    "# )\n",
    "# select * from temp7\n",
    "# ''')\n",
    "# #df.show(5,False)\n",
    "# pdf = df.toPandas()\n",
    "# path = \"d:/lge/pycharm-projects/kaggle_store_sales/output\"\n",
    "# pdf.to_csv(f'{path}/submission/submission_cat2007_20220426.csv', index=False)\n",
    "\n"
   ]
  },
  {
   "cell_type": "code",
   "execution_count": 26,
   "metadata": {},
   "outputs": [
    {
     "ename": "NameError",
     "evalue": "name 'submission_cat2007_20220425' is not defined",
     "output_type": "error",
     "traceback": [
      "\u001B[1;31m---------------------------------------------------------------------------\u001B[0m",
      "\u001B[1;31mNameError\u001B[0m                                 Traceback (most recent call last)",
      "\u001B[1;32m<ipython-input-26-ea84939148cc>\u001B[0m in \u001B[0;36m<module>\u001B[1;34m\u001B[0m\n\u001B[0;32m      1\u001B[0m \u001B[0mpath\u001B[0m \u001B[1;33m=\u001B[0m \u001B[1;34m\"d:/lge/pycharm-projects/kaggle_store_sales/output\"\u001B[0m\u001B[1;33m\u001B[0m\u001B[1;33m\u001B[0m\u001B[0m\n\u001B[1;32m----> 2\u001B[1;33m \u001B[0msubmission_cat2007_20220426\u001B[0m \u001B[1;33m=\u001B[0m \u001B[0mspark\u001B[0m\u001B[1;33m.\u001B[0m\u001B[0mread\u001B[0m\u001B[1;33m.\u001B[0m\u001B[0mcsv\u001B[0m\u001B[1;33m(\u001B[0m\u001B[1;34mf\"{path}/submission/submission_cat2007_20220426.csv\"\u001B[0m\u001B[1;33m,\u001B[0m \u001B[0minferSchema\u001B[0m \u001B[1;33m=\u001B[0m \u001B[1;32mTrue\u001B[0m\u001B[1;33m,\u001B[0m \u001B[0mheader\u001B[0m \u001B[1;33m=\u001B[0m \u001B[1;32mTrue\u001B[0m\u001B[1;33m)\u001B[0m\u001B[1;33m;\u001B[0m\u001B[0msubmission_cat2007_20220425\u001B[0m\u001B[1;33m.\u001B[0m\u001B[0mcreateOrReplaceTempView\u001B[0m\u001B[1;33m(\u001B[0m\u001B[1;34m\"submission_cat2007_20220426\"\u001B[0m\u001B[1;33m)\u001B[0m\u001B[1;33m;\u001B[0m\u001B[0mspark\u001B[0m\u001B[1;33m.\u001B[0m\u001B[0msql\u001B[0m\u001B[1;33m(\u001B[0m\u001B[1;34m\"CACHE TABLE submission_cat2007_20220426\"\u001B[0m\u001B[1;33m)\u001B[0m\u001B[1;33m\u001B[0m\u001B[1;33m\u001B[0m\u001B[0m\n\u001B[0m",
      "\u001B[1;31mNameError\u001B[0m: name 'submission_cat2007_20220425' is not defined"
     ]
    }
   ],
   "source": [
    "path = \"d:/lge/pycharm-projects/kaggle_store_sales/output\"\n",
    "submission_cat2007_20220426 = spark.read.csv(f\"{path}/submission/submission_cat2007_20220426.csv\", inferSchema = True, header = True);submission_cat2007_20220425.createOrReplaceTempView(\"submission_cat2007_20220426\");spark.sql(\"CACHE TABLE submission_cat2007_20220426\")"
   ]
  },
  {
   "cell_type": "code",
   "execution_count": 31,
   "metadata": {},
   "outputs": [
    {
     "data": {
      "text/html": [
       "<table><tr style=\"border-bottom: 1px solid\"><td style=\"font-weight: bold\">work_dtm16</td><td style=\"font-weight: bold\">scenario_id</td><td style=\"font-weight: bold\">scenario_desc</td><td style=\"font-weight: bold\">feature_src</td><td style=\"font-weight: bold\">feature_col</td><td style=\"font-weight: bold\">feature_sdt8</td><td style=\"font-weight: bold\">feature_edt8</td><td style=\"font-weight: bold\">feature_desc</td><td style=\"font-weight: bold\">predict_col</td><td style=\"font-weight: bold\">predict_sdt8</td><td style=\"font-weight: bold\">predict_edt8</td><td style=\"font-weight: bold\">auto_ml_model</td><td style=\"font-weight: bold\">model_name</td><td style=\"font-weight: bold\">model_cfg</td><td style=\"font-weight: bold\">store_nbr</td><td style=\"font-weight: bold\">family2</td><td style=\"font-weight: bold\">test_y</td><td style=\"font-weight: bold\">predict_y</td><td style=\"font-weight: bold\">mae</td><td style=\"font-weight: bold\">mse</td><td style=\"font-weight: bold\">rmse</td><td style=\"font-weight: bold\">msle</td><td style=\"font-weight: bold\">rmsle</td><td style=\"font-weight: bold\">r2</td><td style=\"font-weight: bold\">score</td><td style=\"font-weight: bold\">fit_tm_sec</td><td style=\"font-weight: bold\">file_nm</td><td style=\"font-weight: bold\">memo</td></tr><tr><td>2022-04-30 09:40</td><td>x001f006d001y001t001m001c001</td><td>[train_master_all][year4, season, day_of_week, onpromotion][20130101,20170730][sales][20170801,20170815][LinearRegression]</td><td>train_master_all</td><td>year4, season, day_of_week, onpromotion</td><td>20130101</td><td>20170730</td><td></td><td>sales</td><td>20170801</td><td>20170815</td><td></td><td>LinearRegression</td><td></td><td>1</td><td>1</td><td>[5,4,3,8,5,6,7,4,7,9,1,6,1,1,4]</td><td>[4,4,4,4,4,3,5,4,4,4,4,4,3,5,4]</td><td>2.07</td><td>6.6</td><td>2.57</td><td>0.28</td><td>0.53</td><td>-0.11</td><td>0.72</td><td>0.121428</td><td></td><td></td></tr><tr><td>2022-04-30 09:40</td><td>x001f006d001y001t001m001c001</td><td>[train_master_all][year4, season, day_of_week, onpromotion][20130101,20170730][sales][20170801,20170815][LinearRegression]</td><td>train_master_all</td><td>year4, season, day_of_week, onpromotion</td><td>20130101</td><td>20170730</td><td></td><td>sales</td><td>20170801</td><td>20170815</td><td></td><td>LinearRegression</td><td></td><td>1</td><td>2</td><td>[0,0,0,0,0,0,0,0,0,0,0,0,0,0,0]</td><td>[0,0,0,0,0,0,0,0,0,0,0,0,0,0,0]</td><td>0.0</td><td>0.0</td><td>0.0</td><td>0.0</td><td>0.0</td><td>1.0</td><td>1.0</td><td>0.097076</td><td></td><td></td></tr><tr><td>2022-04-30 09:40</td><td>x001f006d001y001t001m001c001</td><td>[train_master_all][year4, season, day_of_week, onpromotion][20130101,20170730][sales][20170801,20170815][LinearRegression]</td><td>train_master_all</td><td>year4, season, day_of_week, onpromotion</td><td>20130101</td><td>20170730</td><td></td><td>sales</td><td>20170801</td><td>20170815</td><td></td><td>LinearRegression</td><td></td><td>1</td><td>3</td><td>[4,2,5,7,3,2,5,2,4,10,1,3,1,6,4]</td><td>[2,4,4,4,4,3,4,4,4,4,4,4,2,4,4]</td><td>1.73</td><td>5.07</td><td>2.25</td><td>0.2</td><td>0.45</td><td>0.08</td><td>0.8</td><td>0.097</td><td></td><td></td></tr><tr><td>2022-04-30 09:40</td><td>x001f006d001y001t001m001c001</td><td>[train_master_all][year4, season, day_of_week, onpromotion][20130101,20170730][sales][20170801,20170815][LinearRegression]</td><td>train_master_all</td><td>year4, season, day_of_week, onpromotion</td><td>20130101</td><td>20170730</td><td></td><td>sales</td><td>20170801</td><td>20170815</td><td></td><td>LinearRegression</td><td></td><td>1</td><td>4</td><td>[2627,2645,2037,2479,2093,968,2086,2418,2311,2377,1006,1659,803,2201,1942]</td><td>[2593,2499,2299,2230,2123,2023,2561,2474,2386,2292,2186,2123,2023,2574,2499]</td><td>417.4</td><td>336941.8</td><td>580.47</td><td>0.15</td><td>0.38</td><td>0.01</td><td>0.85</td><td>0.098541</td><td></td><td></td></tr><tr><td>2022-04-30 09:40</td><td>x001f006d001y001t001m001c001</td><td>[train_master_all][year4, season, day_of_week, onpromotion][20130101,20170730][sales][20170801,20170815][LinearRegression]</td><td>train_master_all</td><td>year4, season, day_of_week, onpromotion</td><td>20130101</td><td>20170730</td><td></td><td>sales</td><td>20170801</td><td>20170815</td><td></td><td>LinearRegression</td><td></td><td>1</td><td>5</td><td>[0,0,0,0,0,0,0,0,0,0,0,0,0,0,0]</td><td>[0,0,0,0,0,0,0,0,0,0,0,0,0,0,0]</td><td>0.0</td><td>0.0</td><td>0.0</td><td>0.0</td><td>0.0</td><td>1.0</td><td>1.0</td><td>0.114</td><td></td><td></td></tr><tr><td>2022-04-30 09:40</td><td>x001f006d001y001t001m001c001</td><td>[train_master_all][year4, season, day_of_week, onpromotion][20130101,20170730][sales][20170801,20170815][LinearRegression]</td><td>train_master_all</td><td>year4, season, day_of_week, onpromotion</td><td>20130101</td><td>20170730</td><td></td><td>sales</td><td>20170801</td><td>20170815</td><td></td><td>LinearRegression</td><td></td><td>1</td><td>6</td><td>[373,428,282,385,271,144,328,361,399,417,145,243,136,346,329]</td><td>[444,418,419,397,364,334,492,478,452,431,397,364,338,504,474]</td><td>115.93</td><td>18488.73</td><td>135.97</td><td>0.23</td><td>0.48</td><td>-0.99</td><td>0.77</td><td>0.099</td><td></td><td></td></tr><tr><td>2022-04-30 09:40</td><td>x001f006d001y001t001m001c001</td><td>[train_master_all][year4, season, day_of_week, onpromotion][20130101,20170730][sales][20170801,20170815][LinearRegression]</td><td>train_master_all</td><td>year4, season, day_of_week, onpromotion</td><td>20130101</td><td>20170730</td><td></td><td>sales</td><td>20170801</td><td>20170815</td><td></td><td>LinearRegression</td><td></td><td>1</td><td>7</td><td>[11,7,10,24,12,2,18,11,12,17,4,3,1,4,21]</td><td>[23,22,20,19,18,17,24,23,22,20,19,18,17,24,23]</td><td>10.8</td><td>143.6</td><td>11.98</td><td>1.21</td><td>1.1</td><td>-2.03</td><td>-0.21</td><td>0.101</td><td></td><td></td></tr><tr><td>2022-04-30 09:40</td><td>x001f006d001y001t001m001c001</td><td>[train_master_all][year4, season, day_of_week, onpromotion][20130101,20170730][sales][20170801,20170815][LinearRegression]</td><td>train_master_all</td><td>year4, season, day_of_week, onpromotion</td><td>20130101</td><td>20170730</td><td></td><td>sales</td><td>20170801</td><td>20170815</td><td></td><td>LinearRegression</td><td></td><td>1</td><td>8</td><td>[867,942,622,729,442,233,741,767,651,696,341,351,169,571,703]</td><td>[794,735,659,608,552,487,836,781,722,671,603,548,485,837,779]</td><td>141.6</td><td>29302.13</td><td>171.18</td><td>0.17</td><td>0.41</td><td>0.41</td><td>0.83</td><td>0.094999</td><td></td><td></td></tr><tr><td>2022-04-30 09:40</td><td>x001f006d001y001t001m001c001</td><td>[train_master_all][year4, season, day_of_week, onpromotion][20130101,20170730][sales][20170801,20170815][LinearRegression]</td><td>train_master_all</td><td>year4, season, day_of_week, onpromotion</td><td>20130101</td><td>20170730</td><td></td><td>sales</td><td>20170801</td><td>20170815</td><td></td><td>LinearRegression</td><td></td><td>1</td><td>9</td><td>[668,941,529,767,624,312,717,569,789,736,343,526,266,699,602]</td><td>[891,854,817,779,742,703,931,893,855,817,779,741,703,931,893]</td><td>227.67</td><td>68978.33</td><td>262.64</td><td>0.21</td><td>0.46</td><td>-1.08</td><td>0.79</td><td>0.109</td><td></td><td></td></tr><tr><td>2022-04-30 09:40</td><td>x001f006d001y001t001m001c001</td><td>[train_master_all][year4, season, day_of_week, onpromotion][20130101,20170730][sales][20170801,20170815][LinearRegression]</td><td>train_master_all</td><td>year4, season, day_of_week, onpromotion</td><td>20130101</td><td>20170730</td><td></td><td>sales</td><td>20170801</td><td>20170815</td><td></td><td>LinearRegression</td><td></td><td>1</td><td>10</td><td>[133,150,106,170,104,60,138,130,123,139,64,99,47,154,116]</td><td>[149,140,128,176,114,99,157,148,141,133,156,110,102,160,149]</td><td>24.07</td><td>1085.13</td><td>32.94</td><td>0.12</td><td>0.35</td><td>0.11</td><td>0.88</td><td>0.105819</td><td></td><td></td></tr><tr><td>2022-04-30 09:40</td><td>x001f006d001y001t001m001c001</td><td>[train_master_all][year4, season, day_of_week, onpromotion][20130101,20170730][sales][20170801,20170815][LinearRegression]</td><td>train_master_all</td><td>year4, season, day_of_week, onpromotion</td><td>20130101</td><td>20170730</td><td></td><td>sales</td><td>20170801</td><td>20170815</td><td></td><td>LinearRegression</td><td></td><td>1</td><td>11</td><td>[161,160,120,143,155,47,152,130,134,114,86,113,60,170,131]</td><td>[141,134,127,152,113,106,148,141,134,127,148,113,106,148,141]</td><td>22.07</td><td>886.73</td><td>29.78</td><td>0.1</td><td>0.31</td><td>0.29</td><td>0.9</td><td>0.106605</td><td></td><td></td></tr><tr><td>2022-04-30 09:40</td><td>x001f006d001y001t001m001c001</td><td>[train_master_all][year4, season, day_of_week, onpromotion][20130101,20170730][sales][20170801,20170815][LinearRegression]</td><td>train_master_all</td><td>year4, season, day_of_week, onpromotion</td><td>20130101</td><td>20170730</td><td></td><td>sales</td><td>20170801</td><td>20170815</td><td></td><td>LinearRegression</td><td></td><td>1</td><td>12</td><td>[144,200,132,143,155,40,136,134,154,167,61,107,50,110,89]</td><td>[161,163,148,141,135,128,158,161,145,148,141,135,128,158,161]</td><td>37.53</td><td>2164.87</td><td>46.53</td><td>0.24</td><td>0.49</td><td>-0.13</td><td>0.76</td><td>0.098157</td><td></td><td></td></tr><tr><td>2022-04-30 09:40</td><td>x001f006d001y001t001m001c001</td><td>[train_master_all][year4, season, day_of_week, onpromotion][20130101,20170730][sales][20170801,20170815][LinearRegression]</td><td>train_master_all</td><td>year4, season, day_of_week, onpromotion</td><td>20130101</td><td>20170730</td><td></td><td>sales</td><td>20170801</td><td>20170815</td><td></td><td>LinearRegression</td><td></td><td>1</td><td>13</td><td>[2872,3247,2177,2778,2034,1025,2551,3062,2719,2591,1270,1630,952,2407,2508]</td><td>[3038,2973,2603,2487,2284,2124,3190,2965,2886,2617,2407,2277,2052,3088,2922]</td><td>494.27</td><td>376128.0</td><td>613.29</td><td>0.12</td><td>0.35</td><td>0.24</td><td>0.88</td><td>0.097107</td><td></td><td></td></tr><tr><td>2022-04-30 09:40</td><td>x001f006d001y001t001m001c001</td><td>[train_master_all][year4, season, day_of_week, onpromotion][20130101,20170730][sales][20170801,20170815][LinearRegression]</td><td>train_master_all</td><td>year4, season, day_of_week, onpromotion</td><td>20130101</td><td>20170730</td><td></td><td>sales</td><td>20170801</td><td>20170815</td><td></td><td>LinearRegression</td><td></td><td>1</td><td>14</td><td>[25,26,24,9,13,11,19,23,20,23,9,19,6,20,13]</td><td>[24,22,20,18,16,14,26,24,22,20,18,16,14,26,24]</td><td>4.93</td><td>33.73</td><td>5.81</td><td>0.14</td><td>0.37</td><td>0.17</td><td>0.86</td><td>0.097</td><td></td><td></td></tr><tr><td>2022-04-30 09:40</td><td>x001f006d001y001t001m001c001</td><td>[train_master_all][year4, season, day_of_week, onpromotion][20130101,20170730][sales][20170801,20170815][LinearRegression]</td><td>train_master_all</td><td>year4, season, day_of_week, onpromotion</td><td>20130101</td><td>20170730</td><td></td><td>sales</td><td>20170801</td><td>20170815</td><td></td><td>LinearRegression</td><td></td><td>1</td><td>15</td><td>[0,1,3,4,0,2,2,3,3,1,1,0,1,0,3]</td><td>[2,1,1,1,1,1,2,2,1,1,1,1,1,2,2]</td><td>1.07</td><td>2.0</td><td>1.41</td><td>0.37</td><td>0.61</td><td>-0.17</td><td>0.63</td><td>0.101</td><td></td><td></td></tr><tr><td>2022-04-30 09:40</td><td>x001f006d001y001t001m001c001</td><td>[train_master_all][year4, season, day_of_week, onpromotion][20130101,20170730][sales][20170801,20170815][LinearRegression]</td><td>train_master_all</td><td>year4, season, day_of_week, onpromotion</td><td>20130101</td><td>20170730</td><td></td><td>sales</td><td>20170801</td><td>20170815</td><td></td><td>LinearRegression</td><td></td><td>1</td><td>16</td><td>[20,38,20,49,10,2,19,22,29,39,27,17,13,50,30]</td><td>[31,31,27,27,26,25,29,29,29,27,27,26,25,29,29]</td><td>10.53</td><td>163.2</td><td>12.77</td><td>0.49</td><td>0.7</td><td>0.08</td><td>0.51</td><td>0.096158</td><td></td><td></td></tr><tr><td>2022-04-30 09:40</td><td>x001f006d001y001t001m001c001</td><td>[train_master_all][year4, season, day_of_week, onpromotion][20130101,20170730][sales][20170801,20170815][LinearRegression]</td><td>train_master_all</td><td>year4, season, day_of_week, onpromotion</td><td>20130101</td><td>20170730</td><td></td><td>sales</td><td>20170801</td><td>20170815</td><td></td><td>LinearRegression</td><td></td><td>1</td><td>17</td><td>[38,18,26,22,25,8,24,27,16,31,14,31,8,31,33]</td><td>[35,26,33,32,23,26,36,35,34,37,28,35,26,36,39]</td><td>9.27</td><td>114.33</td><td>10.69</td><td>0.27</td><td>0.52</td><td>-0.49</td><td>0.73</td><td>0.100999</td><td></td><td></td></tr><tr><td>2022-04-30 09:40</td><td>x001f006d001y001t001m001c001</td><td>[train_master_all][year4, season, day_of_week, onpromotion][20130101,20170730][sales][20170801,20170815][LinearRegression]</td><td>train_master_all</td><td>year4, season, day_of_week, onpromotion</td><td>20130101</td><td>20170730</td><td></td><td>sales</td><td>20170801</td><td>20170815</td><td></td><td>LinearRegression</td><td></td><td>1</td><td>18</td><td>[0,0,0,0,0,0,0,0,0,0,0,0,0,0,0]</td><td>[0,0,0,0,0,0,0,0,0,0,0,0,0,0,0]</td><td>0.0</td><td>0.0</td><td>0.0</td><td>0.0</td><td>0.0</td><td>1.0</td><td>1.0</td><td>0.097</td><td></td><td></td></tr><tr><td>2022-04-30 09:40</td><td>x001f006d001y001t001m001c001</td><td>[train_master_all][year4, season, day_of_week, onpromotion][20130101,20170730][sales][20170801,20170815][LinearRegression]</td><td>train_master_all</td><td>year4, season, day_of_week, onpromotion</td><td>20130101</td><td>20170730</td><td></td><td>sales</td><td>20170801</td><td>20170815</td><td></td><td>LinearRegression</td><td></td><td>1</td><td>19</td><td>[241,277,169,168,158,77,168,208,161,170,74,116,61,161,156]</td><td>[225,216,212,201,196,188,231,229,221,209,206,197,193,238,230]</td><td>65.4</td><td>5535.0</td><td>74.4</td><td>0.28</td><td>0.53</td><td>-0.7</td><td>0.72</td><td>0.097</td><td></td><td></td></tr><tr><td>2022-04-30 09:40</td><td>x001f006d001y001t001m001c001</td><td>[train_master_all][year4, season, day_of_week, onpromotion][20130101,20170730][sales][20170801,20170815][LinearRegression]</td><td>train_master_all</td><td>year4, season, day_of_week, onpromotion</td><td>20130101</td><td>20170730</td><td></td><td>sales</td><td>20170801</td><td>20170815</td><td></td><td>LinearRegression</td><td></td><td>1</td><td>20</td><td>[12,18,13,10,16,6,19,19,31,7,3,9,7,17,9]</td><td>[20,19,18,17,16,15,20,20,19,18,17,16,15,20,20]</td><td>6.53</td><td>61.73</td><td>7.86</td><td>0.39</td><td>0.62</td><td>-0.31</td><td>0.61</td><td>0.100111</td><td></td><td></td></tr></table>"
      ],
      "text/plain": [
       "<IPython.core.display.HTML object>"
      ]
     },
     "execution_count": 31,
     "metadata": {},
     "output_type": "execute_result"
    }
   ],
   "source": [
    "%%sparksql\n",
    "\n",
    "--select store_nbr, family2, scenario_id, score, predict_y\n",
    "select *\n",
    "from   results\n",
    "where  1=1\n",
    "and scenario_id = 'x001f006d001y001t001m001c001'\n",
    "--and    store_nbr = 1\n",
    "--and    family2 = 1\n",
    "and    scenario_id like'%f006%'\n",
    "limit 20"
   ]
  },
  {
   "cell_type": "code",
   "execution_count": 27,
   "metadata": {},
   "outputs": [
    {
     "data": {
      "text/html": [
       "<table><tr style=\"border-bottom: 1px solid\"><td style=\"font-weight: bold\">store_nbr</td><td style=\"font-weight: bold\">family2</td><td style=\"font-weight: bold\">scenario_id</td><td style=\"font-weight: bold\">score</td><td style=\"font-weight: bold\">predict_y</td></tr><tr><td>1</td><td>1</td><td>x003f005d003y001t002m001c001</td><td>-1.43</td><td>[4,4,4,4,4,3,5,4,4,4,4,4,3,5,4,4,4]</td></tr><tr><td>1</td><td>1</td><td>x003f005d004y001t002m001c001</td><td>-1.47</td><td>[4,4,4,4,4,4,5,4,4,4,4,4,4,4,4,4,4]</td></tr><tr><td>1</td><td>1</td><td>x003f005d003y001t002m003c001</td><td>-1.24</td><td>[4,4,4,4,3,3,4,4,4,4,3,3,3,4,4,4,4]</td></tr><tr><td>1</td><td>1</td><td>x003f005d004y001t002m003c001</td><td>-1.44</td><td>[4,4,4,4,4,4,4,4,4,4,4,4,4,4,4,4,4]</td></tr><tr><td>1</td><td>1</td><td>x001f005d003y001t002m001c001</td><td>-1.43</td><td>[4,4,4,4,4,3,5,4,4,4,4,4,3,5,4,4,4]</td></tr><tr><td>1</td><td>1</td><td>x001f005d004y001t002m001c001</td><td>-1.47</td><td>[4,4,4,4,4,4,5,4,4,4,4,4,4,4,4,4,4]</td></tr><tr><td>1</td><td>1</td><td>x001f005d003y001t002m003c001</td><td>-1.24</td><td>[4,4,4,4,3,3,4,4,4,4,3,3,3,4,4,4,4]</td></tr><tr><td>1</td><td>1</td><td>x001f005d004y001t002m003c001</td><td>-1.44</td><td>[4,4,4,4,4,4,4,4,4,4,4,4,4,4,4,4,4]</td></tr><tr><td>1</td><td>1</td><td>x003f005d003y001t002m002c001</td><td>-1.4</td><td>[4,4,4,4,4,3,5,4,4,4,4,4,3,4,4,4,4]</td></tr><tr><td>1</td><td>1</td><td>x003f005d004y001t002m002c001</td><td>-1.44</td><td>[4,4,4,4,4,4,4,4,4,4,4,4,4,4,4,4,4]</td></tr><tr><td>1</td><td>1</td><td>x001f005d003y001t002m002c001</td><td>-1.4</td><td>[4,4,4,4,4,3,5,4,4,4,4,4,3,4,4,4,4]</td></tr><tr><td>1</td><td>1</td><td>x001f005d004y001t002m002c001</td><td>-1.44</td><td>[4,4,4,4,4,4,4,4,4,4,4,4,4,4,4,4,4]</td></tr><tr><td>1</td><td>1</td><td>x002f005d003y001t002m001c001</td><td>-1.43</td><td>[4,4,4,4,4,3,5,4,4,4,4,4,3,5,4,4,4]</td></tr><tr><td>1</td><td>1</td><td>x002f005d004y001t002m001c001</td><td>-1.47</td><td>[4,4,4,4,4,4,5,4,4,4,4,4,4,4,4,4,4]</td></tr><tr><td>1</td><td>1</td><td>x002f005d003y001t002m003c001</td><td>-1.24</td><td>[4,4,4,4,3,3,4,4,4,4,3,3,3,4,4,4,4]</td></tr><tr><td>1</td><td>1</td><td>x002f005d004y001t002m003c001</td><td>-1.44</td><td>[4,4,4,4,4,4,4,4,4,4,4,4,4,4,4,4,4]</td></tr><tr><td>1</td><td>1</td><td>x002f005d003y001t002m002c001</td><td>-1.4</td><td>[4,4,4,4,4,3,5,4,4,4,4,4,3,4,4,4,4]</td></tr><tr><td>1</td><td>1</td><td>x002f005d004y001t002m002c001</td><td>-1.44</td><td>[4,4,4,4,4,4,4,4,4,4,4,4,4,4,4,4,4]</td></tr></table>"
      ],
      "text/plain": [
       "<IPython.core.display.HTML object>"
      ]
     },
     "execution_count": 27,
     "metadata": {},
     "output_type": "execute_result"
    }
   ],
   "source": [
    "%%sparksql\n",
    "\n",
    "select store_nbr, family2, scenario_id, score, predict_y\n",
    "from   results\n",
    "where  1=1\n",
    "--and scenario_id = 'x003f005d003y001t002m003c001'\n",
    "and    store_nbr = 1\n",
    "and    family2 = 1\n",
    "and    scenario_id like'%t002%'\n",
    "limit 20"
   ]
  },
  {
   "cell_type": "code",
   "execution_count": null,
   "metadata": {},
   "outputs": [],
   "source": [
    "%%sparksql\n",
    "--select count(*) \n",
    "select *\n",
    "from   submission_cat2007_20220426\n",
    "where sales is null\n",
    "order by id\n",
    "limit 10\n"
   ]
  },
  {
   "cell_type": "code",
   "execution_count": null,
   "metadata": {},
   "outputs": [],
   "source": [
    "%%sparksql\n",
    "select * \n",
    "from   train_master_all\n",
    "where  store_nbr = 20\n",
    "and    family2 = 1\n",
    "and date8 >= '20170816'\n",
    "--and id in (3003066,3003074)\n",
    "limit 5\n"
   ]
  },
  {
   "cell_type": "code",
   "execution_count": null,
   "metadata": {},
   "outputs": [],
   "source": [
    "%%sparksql\n",
    "select * \n",
    "from   results\n",
    "where  store_nbr = 20\n",
    "and family2 = 1"
   ]
  },
  {
   "cell_type": "code",
   "execution_count": null,
   "metadata": {},
   "outputs": [],
   "source": [
    "path = \"d:/lge/pycharm-projects/kaggle_store_sales/output\"\n",
    "pdf.to_csv(f'{path}/submission/submission_cat2007_20220425.csv', index=False)"
   ]
  },
  {
   "cell_type": "code",
   "execution_count": null,
   "metadata": {},
   "outputs": [],
   "source": [
    "train_master_all\n",
    "df = spark.sql('''\n",
    "with temp1 as (\n",
    "    select id,date,date10,date8,store_nbr,family2,family\n",
    "    from   train_master_all\n",
    "    where  date8 >= '20170816'\n",
    "    order by id, store_nbr, family2\n",
    ")\n",
    "select *\n",
    "from   temp1\n",
    "order by cast(store_nbr as int)\n",
    "''')\n",
    "df.show(5,False)\n",
    "# pdf = df.toPandas()\n",
    "# pdf.to_csv(f'{path}/holidays_events_mart01.csv')\n",
    "\n"
   ]
  },
  {
   "cell_type": "code",
   "execution_count": null,
   "metadata": {},
   "outputs": [],
   "source": [
    "spark.sql('''\n",
    "select count(case when score < 0.20 then 1 else null end) as s10\n",
    "     , count(case when score between 0.21 and 0.40 then 1 else null end) as s30      \n",
    "     , count(case when score between 0.41 and 0.60 then 1 else null end) as s50       \n",
    "     , count(case when score between 0.61 and 0.80 then 1 else null end) as s70       \n",
    "     , count(case when score > 0.81 then 1 else null end) as s90       \n",
    "from (\n",
    "    select max(a.scenario_id) as scenario_id, a.store_nbr, a.family2, a.score \n",
    "    from   results a,\n",
    "          ( select store_nbr, family2, max(score) score\n",
    "            from results \n",
    "            group by store_nbr, family2\n",
    "          ) b\n",
    "    where a.store_nbr = b.store_nbr\n",
    "    and   a.family2 = b.family2\n",
    "    and   a.score = b.score\n",
    "    group by a.store_nbr, a.family2, a.score\n",
    "    order by a.store_nbr, a.family2, a.score\n",
    "    )\n",
    "''').show(2000,False)"
   ]
  },
  {
   "cell_type": "code",
   "execution_count": null,
   "metadata": {},
   "outputs": [],
   "source": [
    "%%sparksql\n",
    "select scenario_id, store_nbr, family2, score \n",
    "--select *\n",
    "from results \n",
    "where 1=1\n",
    "and scenario_id like'%m001%'\n",
    "--and store_nbr = '1' \n",
    "--and family2 = '2'\n",
    "order by substr(scenario_id,13,4), substr(scenario_id,1,4), substr(scenario_id,5,4)\n",
    "limit 2\n"
   ]
  },
  {
   "cell_type": "code",
   "execution_count": null,
   "metadata": {},
   "outputs": [],
   "source": [
    "%%sparksql\n",
    "select *\n",
    "from results \n",
    "where 1=1\n",
    "--and scenario_id like'%m001%'\n",
    "and scenario_id = 'x002f005d003y001t002m001c001'\n",
    "and store_nbr = '1' \n",
    "and family2 = '1'\n",
    "limit 20"
   ]
  },
  {
   "cell_type": "code",
   "execution_count": null,
   "metadata": {},
   "outputs": [],
   "source": [
    "spark.sql('''\n",
    "select scenario_id, count(*)\n",
    "from (\n",
    "    select max(a.scenario_id) as scenario_id, a.store_nbr, a.family2, a.score \n",
    "    from   results a,\n",
    "          ( select store_nbr, family2, max(score) score\n",
    "            from results \n",
    "            group by store_nbr, family2\n",
    "          ) b\n",
    "    where a.store_nbr = b.store_nbr\n",
    "    and   a.family2 = b.family2\n",
    "    and   a.score = b.score\n",
    "    group by a.store_nbr, a.family2, a.score\n",
    "    order by a.store_nbr, a.family2, a.score\n",
    "     )\n",
    "where score > 0.81     \n",
    "group by scenario_id      \n",
    "order by scenario_id      \n",
    "''').show(2,False)"
   ]
  },
  {
   "cell_type": "code",
   "execution_count": null,
   "metadata": {},
   "outputs": [],
   "source": []
  },
  {
   "cell_type": "code",
   "execution_count": null,
   "metadata": {},
   "outputs": [],
   "source": [
    "%%sparksql\n",
    "\n",
    "select scenario_id\n",
    "     , count(*) cnt\n",
    "     , count(case when score < 0.20 then 1 else null end) as s10\n",
    "     , count(case when score between 0.21 and 0.40 then 1 else null end) as s30      \n",
    "     , count(case when score between 0.41 and 0.60 then 1 else null end) as s50       \n",
    "     , count(case when score between 0.61 and 0.80 then 1 else null end) as s70       \n",
    "     , count(case when score > 0.81 then 1 else null end) as s90       \n",
    "     , max(scenario_desc) as scenario_desc\n",
    "     , max(feature_col ) as feature_col\n",
    "     , max(feature_sdt8) as feature_sdt8\n",
    "     , max(feature_edt8) as feature_edt8\n",
    "     , max(predict_col ) as predict_col\n",
    "     , max(predict_sdt8) as predict_sdt8\n",
    "     , max(predict_edt8) as predict_edt8\n",
    "     , round(sum(fit_tm_sec)/60)  as fit_tm_min\n",
    "from results                                                                                                                                                                     \n",
    "group by scenario_id\n",
    "order by scenario_id\n",
    "limit 2"
   ]
  },
  {
   "cell_type": "code",
   "execution_count": null,
   "metadata": {},
   "outputs": [],
   "source": []
  },
  {
   "cell_type": "code",
   "execution_count": null,
   "metadata": {},
   "outputs": [],
   "source": [
    "spark.sql('''\n",
    "select auto_ml_model, count(*)\n",
    "from results\n",
    "where scenario_id like '%m004'\n",
    "group by auto_ml_model\n",
    "order by auto_ml_model\n",
    "''').show(2,False)"
   ]
  }
 ],
 "metadata": {
  "kernelspec": {
   "display_name": "Python 3",
   "language": "python",
   "name": "python3"
  },
  "language_info": {
   "codemirror_mode": {
    "name": "ipython",
    "version": 3
   },
   "file_extension": ".py",
   "mimetype": "text/x-python",
   "name": "python",
   "nbconvert_exporter": "python",
   "pygments_lexer": "ipython3",
   "version": "3.8.3"
  }
 },
 "nbformat": 4,
 "nbformat_minor": 4
}