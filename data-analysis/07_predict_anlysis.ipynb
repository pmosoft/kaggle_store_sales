{
 "cells": [
  {
   "cell_type": "code",
   "execution_count": 17,
   "metadata": {},
   "outputs": [],
   "source": [
    "import findspark \n",
    "findspark.init() "
   ]
  },
  {
   "cell_type": "code",
   "execution_count": 18,
   "metadata": {},
   "outputs": [
    {
     "name": "stdout",
     "output_type": "stream",
     "text": [
      "The sparksql_magic extension is already loaded. To reload it, use:\n",
      "  %reload_ext sparksql_magic\n"
     ]
    }
   ],
   "source": [
    "import pyspark \n",
    "from pyspark.sql import *\n",
    "spark = SparkSession.builder.master(\"local[*]\").getOrCreate()\n",
    "spark.conf.set(\"spark.sql.debug.maxToStringFields\", 1000)\n",
    "%load_ext sparksql_magic\n",
    "%config SparkSql.limit=2000"
   ]
  },
  {
   "cell_type": "code",
   "execution_count": 19,
   "metadata": {},
   "outputs": [],
   "source": [
    "import numpy as np # linear algebra\n",
    "import pandas as pd # data processing, CSV filcondae I/O (e.g. pd.read_csv)\n",
    "import random as rd # generating random numbers\n",
    "import matplotlib.pyplot as plt # basic plotting\n",
    "import seaborn as sns # for prettier plots\n",
    "import plotly.express as px\n",
    "from pyspark.sql.types import StructType,StructField, StringType, IntegerType\n"
   ]
  },
  {
   "cell_type": "code",
   "execution_count": 20,
   "metadata": {},
   "outputs": [
    {
     "data": {
      "text/plain": [
       "DataFrame[]"
      ]
     },
     "execution_count": 20,
     "metadata": {},
     "output_type": "execute_result"
    }
   ],
   "source": [
    "path = \"d:/lge/pycharm-projects/kaggle_store_sales/input\"\n",
    "train_master_all = spark.read.csv(f\"{path}/train_master_all.csv\", inferSchema = True, header = True);train_master_all.createOrReplaceTempView(\"train_master_all\");spark.sql(\"CACHE TABLE train_master_all\")"
   ]
  },
  {
   "cell_type": "code",
   "execution_count": 21,
   "metadata": {},
   "outputs": [],
   "source": [
    "schema = StructType([\n",
    "    StructField(\"work_dtm16\"    , StringType()),\n",
    "    StructField(\"scenario_id\"   , StringType()),\n",
    "    StructField(\"scenario_desc\" , StringType()),\n",
    "    StructField(\"feature_src\"   , StringType()),\n",
    "    StructField(\"feature_col\"   , StringType()),\n",
    "    StructField(\"feature_sdt8\"  , StringType()),\n",
    "    StructField(\"feature_edt8\"  , StringType()),\n",
    "    StructField(\"feature_desc\"  , StringType()),\n",
    "    StructField(\"predict_col\"   , StringType()),\n",
    "    StructField(\"predict_sdt8\"  , StringType()),\n",
    "    StructField(\"predict_edt8\"  , StringType()),\n",
    "    StructField(\"auto_ml_model\" , StringType()),\n",
    "    StructField(\"model_name\"    , StringType()),\n",
    "    StructField(\"model_cfg\"     , StringType()),\n",
    "    StructField(\"store_nbr\"     , StringType()),\n",
    "    StructField(\"family2\"       , StringType()),\n",
    "    StructField(\"test_y\"        , StringType()),\n",
    "    StructField(\"predict_y\"     , StringType()),\n",
    "    StructField(\"mae\"           , StringType()),\n",
    "    StructField(\"mse\"          , StringType()),\n",
    "    StructField(\"rmse\"           , StringType()),\n",
    "    StructField(\"msle\"           , StringType()),\n",
    "    StructField(\"rmsle\"           , StringType()),\n",
    "    StructField(\"r2\"           , StringType()),\n",
    "    StructField(\"score\"         , StringType()),\n",
    "    StructField(\"fit_tm_sec\"    , StringType()),\n",
    "    StructField(\"file_nm\"       , StringType()),\n",
    "    StructField(\"memo\"          , StringType())\n",
    "    ])"
   ]
  },
  {
   "cell_type": "code",
   "execution_count": 22,
   "metadata": {},
   "outputs": [
    {
     "data": {
      "text/plain": [
       "DataFrame[]"
      ]
     },
     "execution_count": 22,
     "metadata": {},
     "output_type": "execute_result"
    }
   ],
   "source": [
    "path = \"d:/lge/pycharm-projects/kaggle_store_sales/output\"\n",
    "from os import listdir\n",
    "from os.path import isfile, join\n",
    "path = \"d:/lge/pycharm-projects/kaggle_store_sales/output/\"\n",
    "files = [path+f for f in listdir(path) if isfile(join(path, f))]\n",
    "results = spark.read.schema(schema).json(files);results.createOrReplaceTempView(\"results\");spark.sql(\"CACHE TABLE results\")\n",
    "#results = spark.read.json(files);results.createOrReplaceTempView(\"results\");spark.sql(\"CACHE TABLE results\")\n"
   ]
  },
  {
   "cell_type": "code",
   "execution_count": 23,
   "metadata": {},
   "outputs": [
    {
     "data": {
      "text/html": [
       "<div>\n",
       "<style scoped>\n",
       "    .dataframe tbody tr th:only-of-type {\n",
       "        vertical-align: middle;\n",
       "    }\n",
       "\n",
       "    .dataframe tbody tr th {\n",
       "        vertical-align: top;\n",
       "    }\n",
       "\n",
       "    .dataframe thead th {\n",
       "        text-align: right;\n",
       "    }\n",
       "</style>\n",
       "<table border=\"1\" class=\"dataframe\">\n",
       "  <thead>\n",
       "    <tr style=\"text-align: right;\">\n",
       "      <th></th>\n",
       "      <th>scenario_id</th>\n",
       "      <th>cnt</th>\n",
       "      <th>s90</th>\n",
       "      <th>s70</th>\n",
       "      <th>s50</th>\n",
       "      <th>s30</th>\n",
       "      <th>s10</th>\n",
       "      <th>fit_tm_min</th>\n",
       "    </tr>\n",
       "  </thead>\n",
       "  <tbody>\n",
       "    <tr>\n",
       "      <th>0</th>\n",
       "      <td>x001f004d001y001t001m001c001</td>\n",
       "      <td>1782</td>\n",
       "      <td>906</td>\n",
       "      <td>414</td>\n",
       "      <td>221</td>\n",
       "      <td>101</td>\n",
       "      <td>111</td>\n",
       "      <td>2.0</td>\n",
       "    </tr>\n",
       "    <tr>\n",
       "      <th>1</th>\n",
       "      <td>x001f005d001y001t001m001c001</td>\n",
       "      <td>1782</td>\n",
       "      <td>979</td>\n",
       "      <td>428</td>\n",
       "      <td>179</td>\n",
       "      <td>66</td>\n",
       "      <td>94</td>\n",
       "      <td>3.0</td>\n",
       "    </tr>\n",
       "    <tr>\n",
       "      <th>2</th>\n",
       "      <td>x001f006d001y001t001m001c001</td>\n",
       "      <td>1782</td>\n",
       "      <td>988</td>\n",
       "      <td>419</td>\n",
       "      <td>184</td>\n",
       "      <td>68</td>\n",
       "      <td>92</td>\n",
       "      <td>3.0</td>\n",
       "    </tr>\n",
       "    <tr>\n",
       "      <th>3</th>\n",
       "      <td>x001f007d001y001t001m001c001</td>\n",
       "      <td>1782</td>\n",
       "      <td>983</td>\n",
       "      <td>426</td>\n",
       "      <td>181</td>\n",
       "      <td>66</td>\n",
       "      <td>93</td>\n",
       "      <td>3.0</td>\n",
       "    </tr>\n",
       "    <tr>\n",
       "      <th>4</th>\n",
       "      <td>x001f008d001y001t001m001c001</td>\n",
       "      <td>1782</td>\n",
       "      <td>983</td>\n",
       "      <td>426</td>\n",
       "      <td>181</td>\n",
       "      <td>66</td>\n",
       "      <td>93</td>\n",
       "      <td>3.0</td>\n",
       "    </tr>\n",
       "    <tr>\n",
       "      <th>5</th>\n",
       "      <td>x001f009d001y001t001m001c001</td>\n",
       "      <td>1782</td>\n",
       "      <td>979</td>\n",
       "      <td>428</td>\n",
       "      <td>179</td>\n",
       "      <td>66</td>\n",
       "      <td>94</td>\n",
       "      <td>3.0</td>\n",
       "    </tr>\n",
       "    <tr>\n",
       "      <th>6</th>\n",
       "      <td>x001f010d001y001t001m001c001</td>\n",
       "      <td>1782</td>\n",
       "      <td>983</td>\n",
       "      <td>426</td>\n",
       "      <td>181</td>\n",
       "      <td>66</td>\n",
       "      <td>93</td>\n",
       "      <td>3.0</td>\n",
       "    </tr>\n",
       "  </tbody>\n",
       "</table>\n",
       "</div>"
      ],
      "text/plain": [
       "                    scenario_id   cnt  s90  s70  s50  s30  s10  fit_tm_min\n",
       "0  x001f004d001y001t001m001c001  1782  906  414  221  101  111         2.0\n",
       "1  x001f005d001y001t001m001c001  1782  979  428  179   66   94         3.0\n",
       "2  x001f006d001y001t001m001c001  1782  988  419  184   68   92         3.0\n",
       "3  x001f007d001y001t001m001c001  1782  983  426  181   66   93         3.0\n",
       "4  x001f008d001y001t001m001c001  1782  983  426  181   66   93         3.0\n",
       "5  x001f009d001y001t001m001c001  1782  979  428  179   66   94         3.0\n",
       "6  x001f010d001y001t001m001c001  1782  983  426  181   66   93         3.0"
      ]
     },
     "execution_count": 23,
     "metadata": {},
     "output_type": "execute_result"
    }
   ],
   "source": [
    "df = spark.sql('''\n",
    "select scenario_id\n",
    "     , count(*) cnt\n",
    "     , count(case when score > 0.81 then 1 else null end) as s90       \n",
    "     , count(case when score between 0.61 and 0.80 then 1 else null end) as s70       \n",
    "     , count(case when score between 0.41 and 0.60 then 1 else null end) as s50       \n",
    "     , count(case when score between 0.21 and 0.40 then 1 else null end) as s30      \n",
    "     , count(case when score < 0.20 then 1 else null end) as s10\n",
    "     , round(sum(fit_tm_sec)/60)  as fit_tm_min\n",
    "from results       \n",
    "where 1=1 \n",
    "and scenario_id like'%t00%'\n",
    "and scenario_id like'%t001%'\n",
    "and scenario_id like'%x001%'\n",
    "and scenario_id like'%d001%'\n",
    "and scenario_id like'%m001%'\n",
    "group by scenario_id\n",
    "order by scenario_id\n",
    "''')\n",
    "pdf = df.toPandas()\n",
    "pdf.head(20)\n"
   ]
  },
  {
   "cell_type": "code",
   "execution_count": 35,
   "metadata": {},
   "outputs": [
    {
     "data": {
      "text/html": [
       "<table><tr style=\"border-bottom: 1px solid\"><td style=\"font-weight: bold\">store_nbr</td><td style=\"font-weight: bold\">family2</td><td style=\"font-weight: bold\">scenario_id</td><td style=\"font-weight: bold\">score</td><td style=\"font-weight: bold\">rmsle</td><td style=\"font-weight: bold\">predict_y</td><td style=\"font-weight: bold\">test_y</td><td style=\"font-weight: bold\">r2</td><td style=\"font-weight: bold\">mae</td><td style=\"font-weight: bold\">mse</td><td style=\"font-weight: bold\">rmse</td><td style=\"font-weight: bold\">msle</td></tr><tr><td>1</td><td>2</td><td>x001f005d004y001t002m002c001</td><td>1.0</td><td>null</td><td>[0,0,0,0,0,0,0,0,0,0,0,0,0,0,0,0,0]</td><td>[0,0,0,0,0,0,0,0,0,0,0,0,0,0,0,0,0]</td><td>null</td><td>0.0</td><td>0.0</td><td>null</td><td>null</td></tr><tr><td>1</td><td>2</td><td>x003f005d004y001t002m003c001</td><td>1.0</td><td>null</td><td>[0,0,0,0,0,0,0,0,0,0,0,0,0,0,0,0,0]</td><td>[0,0,0,0,0,0,0,0,0,0,0,0,0,0,0,0,0]</td><td>null</td><td>0.0</td><td>0.0</td><td>null</td><td>null</td></tr><tr><td>1</td><td>2</td><td>x001f005d004y001t002m003c001</td><td>1.0</td><td>null</td><td>[0,0,0,0,0,0,0,0,0,0,0,0,0,0,0,0,0]</td><td>[0,0,0,0,0,0,0,0,0,0,0,0,0,0,0,0,0]</td><td>null</td><td>0.0</td><td>0.0</td><td>null</td><td>null</td></tr><tr><td>1</td><td>2</td><td>x001f005d003y001t002m003c001</td><td>1.0</td><td>null</td><td>[0,0,0,0,0,0,0,0,0,0,0,0,0,0,0,0,0]</td><td>[0,0,0,0,0,0,0,0,0,0,0,0,0,0,0,0,0]</td><td>null</td><td>0.0</td><td>0.0</td><td>null</td><td>null</td></tr><tr><td>1</td><td>2</td><td>x003f005d004y001t002m001c001</td><td>1.0</td><td>null</td><td>[0,0,0,0,0,0,0,0,0,0,0,0,0,0,0,0,0]</td><td>[0,0,0,0,0,0,0,0,0,0,0,0,0,0,0,0,0]</td><td>null</td><td>0.0</td><td>0.0</td><td>null</td><td>null</td></tr><tr><td>1</td><td>2</td><td>x001f005d003y001t002m001c001</td><td>1.0</td><td>null</td><td>[0,0,0,0,0,0,0,0,0,0,0,0,0,0,0,0,0]</td><td>[0,0,0,0,0,0,0,0,0,0,0,0,0,0,0,0,0]</td><td>null</td><td>0.0</td><td>0.0</td><td>null</td><td>null</td></tr><tr><td>1</td><td>2</td><td>x003f005d003y001t002m003c001</td><td>1.0</td><td>null</td><td>[0,0,0,0,0,0,0,0,0,0,0,0,0,0,0,0,0]</td><td>[0,0,0,0,0,0,0,0,0,0,0,0,0,0,0,0,0]</td><td>null</td><td>0.0</td><td>0.0</td><td>null</td><td>null</td></tr><tr><td>1</td><td>2</td><td>x001f005d004y001t002m001c001</td><td>1.0</td><td>null</td><td>[0,0,0,0,0,0,0,0,0,0,0,0,0,0,0,0,0]</td><td>[0,0,0,0,0,0,0,0,0,0,0,0,0,0,0,0,0]</td><td>null</td><td>0.0</td><td>0.0</td><td>null</td><td>null</td></tr><tr><td>1</td><td>2</td><td>x003f005d004y001t002m002c001</td><td>1.0</td><td>null</td><td>[0,0,0,0,0,0,0,0,0,0,0,0,0,0,0,0,0]</td><td>[0,0,0,0,0,0,0,0,0,0,0,0,0,0,0,0,0]</td><td>null</td><td>0.0</td><td>0.0</td><td>null</td><td>null</td></tr><tr><td>1</td><td>2</td><td>x003f005d003y001t002m002c001</td><td>1.0</td><td>null</td><td>[0,0,0,0,0,0,0,0,0,0,0,0,0,0,0,0,0]</td><td>[0,0,0,0,0,0,0,0,0,0,0,0,0,0,0,0,0]</td><td>null</td><td>0.0</td><td>0.0</td><td>null</td><td>null</td></tr><tr><td>1</td><td>2</td><td>x001f005d003y001t002m002c001</td><td>1.0</td><td>null</td><td>[0,0,0,0,0,0,0,0,0,0,0,0,0,0,0,0,0]</td><td>[0,0,0,0,0,0,0,0,0,0,0,0,0,0,0,0,0]</td><td>null</td><td>0.0</td><td>0.0</td><td>null</td><td>null</td></tr><tr><td>1</td><td>2</td><td>x003f005d003y001t002m001c001</td><td>1.0</td><td>null</td><td>[0,0,0,0,0,0,0,0,0,0,0,0,0,0,0,0,0]</td><td>[0,0,0,0,0,0,0,0,0,0,0,0,0,0,0,0,0]</td><td>null</td><td>0.0</td><td>0.0</td><td>null</td><td>null</td></tr><tr><td>1</td><td>5</td><td>x003f005d004y001t002m001c001</td><td>1.0</td><td>null</td><td>[0,0,0,0,0,0,0,0,0,0,0,0,0,0,0,0,0]</td><td>[0,0,0,0,0,0,0,0,0,0,0,0,0,0,0,0,0]</td><td>null</td><td>0.0</td><td>0.0</td><td>null</td><td>null</td></tr><tr><td>1</td><td>5</td><td>x001f005d003y001t002m001c001</td><td>1.0</td><td>null</td><td>[0,0,0,0,0,0,0,0,0,0,0,0,0,0,0,0,0]</td><td>[0,0,0,0,0,0,0,0,0,0,0,0,0,0,0,0,0]</td><td>null</td><td>0.0</td><td>0.0</td><td>null</td><td>null</td></tr><tr><td>1</td><td>5</td><td>x001f005d004y001t002m002c001</td><td>1.0</td><td>null</td><td>[0,0,0,0,0,0,0,0,0,0,0,0,0,0,0,0,0]</td><td>[0,0,0,0,0,0,0,0,0,0,0,0,0,0,0,0,0]</td><td>null</td><td>0.0</td><td>0.0</td><td>null</td><td>null</td></tr><tr><td>1</td><td>5</td><td>x003f005d003y001t002m002c001</td><td>1.0</td><td>null</td><td>[0,0,0,0,0,0,0,0,0,0,0,0,0,0,0,0,0]</td><td>[0,0,0,0,0,0,0,0,0,0,0,0,0,0,0,0,0]</td><td>null</td><td>0.0</td><td>0.0</td><td>null</td><td>null</td></tr><tr><td>1</td><td>5</td><td>x001f005d004y001t002m001c001</td><td>1.0</td><td>null</td><td>[0,0,0,0,0,0,0,0,0,0,0,0,0,0,0,0,0]</td><td>[0,0,0,0,0,0,0,0,0,0,0,0,0,0,0,0,0]</td><td>null</td><td>0.0</td><td>0.0</td><td>null</td><td>null</td></tr><tr><td>1</td><td>5</td><td>x001f005d003y001t002m003c001</td><td>1.0</td><td>null</td><td>[0,0,0,0,0,0,0,0,0,0,0,0,0,0,0,0,0]</td><td>[0,0,0,0,0,0,0,0,0,0,0,0,0,0,0,0,0]</td><td>null</td><td>0.0</td><td>0.0</td><td>null</td><td>null</td></tr><tr><td>1</td><td>5</td><td>x003f005d004y001t002m002c001</td><td>1.0</td><td>null</td><td>[0,0,0,0,0,0,0,0,0,0,0,0,0,0,0,0,0]</td><td>[0,0,0,0,0,0,0,0,0,0,0,0,0,0,0,0,0]</td><td>null</td><td>0.0</td><td>0.0</td><td>null</td><td>null</td></tr><tr><td>1</td><td>5</td><td>x003f005d004y001t002m003c001</td><td>1.0</td><td>null</td><td>[0,0,0,0,0,0,0,0,0,0,0,0,0,0,0,0,0]</td><td>[0,0,0,0,0,0,0,0,0,0,0,0,0,0,0,0,0]</td><td>null</td><td>0.0</td><td>0.0</td><td>null</td><td>null</td></tr><tr><td>1</td><td>5</td><td>x003f005d003y001t002m001c001</td><td>1.0</td><td>null</td><td>[0,0,0,0,0,0,0,0,0,0,0,0,0,0,0,0,0]</td><td>[0,0,0,0,0,0,0,0,0,0,0,0,0,0,0,0,0]</td><td>null</td><td>0.0</td><td>0.0</td><td>null</td><td>null</td></tr><tr><td>1</td><td>5</td><td>x003f005d003y001t002m003c001</td><td>1.0</td><td>null</td><td>[0,0,0,0,0,0,0,0,0,0,0,0,0,0,0,0,0]</td><td>[0,0,0,0,0,0,0,0,0,0,0,0,0,0,0,0,0]</td><td>null</td><td>0.0</td><td>0.0</td><td>null</td><td>null</td></tr><tr><td>1</td><td>5</td><td>x001f005d003y001t002m002c001</td><td>1.0</td><td>null</td><td>[0,0,0,0,0,0,0,0,0,0,0,0,0,0,0,0,0]</td><td>[0,0,0,0,0,0,0,0,0,0,0,0,0,0,0,0,0]</td><td>null</td><td>0.0</td><td>0.0</td><td>null</td><td>null</td></tr><tr><td>1</td><td>5</td><td>x001f005d004y001t002m003c001</td><td>1.0</td><td>null</td><td>[0,0,0,0,0,0,0,0,0,0,0,0,0,0,0,0,0]</td><td>[0,0,0,0,0,0,0,0,0,0,0,0,0,0,0,0,0]</td><td>null</td><td>0.0</td><td>0.0</td><td>null</td><td>null</td></tr><tr><td>1</td><td>18</td><td>x001f005d004y001t002m001c001</td><td>1.0</td><td>null</td><td>[0,0,0,0,0,0,0,0,0,0,0,0,0,0,0,0,0]</td><td>[0,0,0,0,0,0,0,0,0,0,0,0,0,0,0,0,0]</td><td>null</td><td>0.0</td><td>0.0</td><td>null</td><td>null</td></tr><tr><td>1</td><td>18</td><td>x001f005d004y001t002m003c001</td><td>1.0</td><td>null</td><td>[0,0,0,0,0,0,0,0,0,0,0,0,0,0,0,0,0]</td><td>[0,0,0,0,0,0,0,0,0,0,0,0,0,0,0,0,0]</td><td>null</td><td>0.0</td><td>0.0</td><td>null</td><td>null</td></tr><tr><td>1</td><td>18</td><td>x003f005d004y001t002m002c001</td><td>1.0</td><td>null</td><td>[0,0,0,0,0,0,0,0,0,0,0,0,0,0,0,0,0]</td><td>[0,0,0,0,0,0,0,0,0,0,0,0,0,0,0,0,0]</td><td>null</td><td>0.0</td><td>0.0</td><td>null</td><td>null</td></tr><tr><td>1</td><td>18</td><td>x001f005d004y001t002m002c001</td><td>1.0</td><td>null</td><td>[0,0,0,0,0,0,0,0,0,0,0,0,0,0,0,0,0]</td><td>[0,0,0,0,0,0,0,0,0,0,0,0,0,0,0,0,0]</td><td>null</td><td>0.0</td><td>0.0</td><td>null</td><td>null</td></tr><tr><td>1</td><td>18</td><td>x003f005d003y001t002m002c001</td><td>1.0</td><td>null</td><td>[0,0,0,0,0,0,0,0,0,0,0,0,0,0,0,0,0]</td><td>[0,0,0,0,0,0,0,0,0,0,0,0,0,0,0,0,0]</td><td>null</td><td>0.0</td><td>0.0</td><td>null</td><td>null</td></tr><tr><td>1</td><td>18</td><td>x001f005d003y001t002m002c001</td><td>1.0</td><td>null</td><td>[0,0,0,0,0,0,0,0,0,0,0,0,0,0,0,0,0]</td><td>[0,0,0,0,0,0,0,0,0,0,0,0,0,0,0,0,0]</td><td>null</td><td>0.0</td><td>0.0</td><td>null</td><td>null</td></tr><tr><td>1</td><td>18</td><td>x001f005d003y001t002m001c001</td><td>1.0</td><td>null</td><td>[0,0,0,0,0,0,0,0,0,0,0,0,0,0,0,0,0]</td><td>[0,0,0,0,0,0,0,0,0,0,0,0,0,0,0,0,0]</td><td>null</td><td>0.0</td><td>0.0</td><td>null</td><td>null</td></tr><tr><td>1</td><td>18</td><td>x003f005d004y001t002m001c001</td><td>1.0</td><td>null</td><td>[0,0,0,0,0,0,0,0,0,0,0,0,0,0,0,0,0]</td><td>[0,0,0,0,0,0,0,0,0,0,0,0,0,0,0,0,0]</td><td>null</td><td>0.0</td><td>0.0</td><td>null</td><td>null</td></tr><tr><td>1</td><td>18</td><td>x001f005d003y001t002m003c001</td><td>1.0</td><td>null</td><td>[0,0,0,0,0,0,0,0,0,0,0,0,0,0,0,0,0]</td><td>[0,0,0,0,0,0,0,0,0,0,0,0,0,0,0,0,0]</td><td>null</td><td>0.0</td><td>0.0</td><td>null</td><td>null</td></tr><tr><td>1</td><td>18</td><td>x003f005d004y001t002m003c001</td><td>1.0</td><td>null</td><td>[0,0,0,0,0,0,0,0,0,0,0,0,0,0,0,0,0]</td><td>[0,0,0,0,0,0,0,0,0,0,0,0,0,0,0,0,0]</td><td>null</td><td>0.0</td><td>0.0</td><td>null</td><td>null</td></tr><tr><td>1</td><td>18</td><td>x003f005d003y001t002m001c001</td><td>1.0</td><td>null</td><td>[0,0,0,0,0,0,0,0,0,0,0,0,0,0,0,0,0]</td><td>[0,0,0,0,0,0,0,0,0,0,0,0,0,0,0,0,0]</td><td>null</td><td>0.0</td><td>0.0</td><td>null</td><td>null</td></tr><tr><td>1</td><td>18</td><td>x003f005d003y001t002m003c001</td><td>1.0</td><td>null</td><td>[0,0,0,0,0,0,0,0,0,0,0,0,0,0,0,0,0]</td><td>[0,0,0,0,0,0,0,0,0,0,0,0,0,0,0,0,0]</td><td>null</td><td>0.0</td><td>0.0</td><td>null</td><td>null</td></tr><tr><td>1</td><td>32</td><td>x001f005d004y001t002m003c001</td><td>1.0</td><td>null</td><td>[0,0,0,0,0,0,0,0,0,0,0,0,0,0,0,0,0]</td><td>[0,0,0,0,0,0,0,0,0,0,0,0,0,0,0,0,0]</td><td>null</td><td>0.0</td><td>0.0</td><td>null</td><td>null</td></tr><tr><td>1</td><td>32</td><td>x003f005d004y001t002m002c001</td><td>1.0</td><td>null</td><td>[0,0,0,0,0,0,0,0,0,0,0,0,0,0,0,0,0]</td><td>[0,0,0,0,0,0,0,0,0,0,0,0,0,0,0,0,0]</td><td>null</td><td>0.0</td><td>0.0</td><td>null</td><td>null</td></tr><tr><td>1</td><td>32</td><td>x003f005d004y001t002m001c001</td><td>1.0</td><td>null</td><td>[0,0,0,0,0,0,0,0,0,0,0,0,0,0,0,0,0]</td><td>[0,0,0,0,0,0,0,0,0,0,0,0,0,0,0,0,0]</td><td>null</td><td>0.0</td><td>0.0</td><td>null</td><td>null</td></tr><tr><td>1</td><td>32</td><td>x003f005d004y001t002m003c001</td><td>1.0</td><td>null</td><td>[0,0,0,0,0,0,0,0,0,0,0,0,0,0,0,0,0]</td><td>[0,0,0,0,0,0,0,0,0,0,0,0,0,0,0,0,0]</td><td>null</td><td>0.0</td><td>0.0</td><td>null</td><td>null</td></tr><tr><td>1</td><td>32</td><td>x001f005d004y001t002m001c001</td><td>1.0</td><td>null</td><td>[0,0,0,0,0,0,0,0,0,0,0,0,0,0,0,0,0]</td><td>[0,0,0,0,0,0,0,0,0,0,0,0,0,0,0,0,0]</td><td>null</td><td>0.0</td><td>0.0</td><td>null</td><td>null</td></tr><tr><td>1</td><td>32</td><td>x001f005d004y001t002m002c001</td><td>1.0</td><td>null</td><td>[0,0,0,0,0,0,0,0,0,0,0,0,0,0,0,0,0]</td><td>[0,0,0,0,0,0,0,0,0,0,0,0,0,0,0,0,0]</td><td>null</td><td>0.0</td><td>0.0</td><td>null</td><td>null</td></tr><tr><td>2</td><td>2</td><td>x003f005d004y001t002m002c001</td><td>1.0</td><td>null</td><td>[0,0,0,0,0,0,0,0,0,0,0,0,0,0,0,0,0]</td><td>[0,0,0,0,0,0,0,0,0,0,0,0,0,0,0,0,0]</td><td>null</td><td>0.0</td><td>0.0</td><td>null</td><td>null</td></tr><tr><td>2</td><td>2</td><td>x003f005d004y001t002m001c001</td><td>1.0</td><td>null</td><td>[0,0,0,0,0,0,0,0,0,0,0,0,0,0,0,0,0]</td><td>[0,0,0,0,0,0,0,0,0,0,0,0,0,0,0,0,0]</td><td>null</td><td>0.0</td><td>0.0</td><td>null</td><td>null</td></tr><tr><td>2</td><td>2</td><td>x003f005d003y001t002m001c001</td><td>1.0</td><td>null</td><td>[0,0,0,0,0,0,0,0,0,0,0,0,0,0,0,0,0]</td><td>[0,0,0,0,0,0,0,0,0,0,0,0,0,0,0,0,0]</td><td>null</td><td>0.0</td><td>0.0</td><td>null</td><td>null</td></tr><tr><td>2</td><td>2</td><td>x003f005d003y001t002m002c001</td><td>1.0</td><td>null</td><td>[0,0,0,0,0,0,0,0,0,0,0,0,0,0,0,0,0]</td><td>[0,0,0,0,0,0,0,0,0,0,0,0,0,0,0,0,0]</td><td>null</td><td>0.0</td><td>0.0</td><td>null</td><td>null</td></tr><tr><td>2</td><td>2</td><td>x001f005d003y001t002m002c001</td><td>1.0</td><td>null</td><td>[0,0,0,0,0,0,0,0,0,0,0,0,0,0,0,0,0]</td><td>[0,0,0,0,0,0,0,0,0,0,0,0,0,0,0,0,0]</td><td>null</td><td>0.0</td><td>0.0</td><td>null</td><td>null</td></tr><tr><td>2</td><td>2</td><td>x001f005d004y001t002m001c001</td><td>1.0</td><td>null</td><td>[0,0,0,0,0,0,0,0,0,0,0,0,0,0,0,0,0]</td><td>[0,0,0,0,0,0,0,0,0,0,0,0,0,0,0,0,0]</td><td>null</td><td>0.0</td><td>0.0</td><td>null</td><td>null</td></tr><tr><td>2</td><td>2</td><td>x001f005d004y001t002m002c001</td><td>1.0</td><td>null</td><td>[0,0,0,0,0,0,0,0,0,0,0,0,0,0,0,0,0]</td><td>[0,0,0,0,0,0,0,0,0,0,0,0,0,0,0,0,0]</td><td>null</td><td>0.0</td><td>0.0</td><td>null</td><td>null</td></tr><tr><td>2</td><td>2</td><td>x001f005d003y001t002m003c001</td><td>1.0</td><td>null</td><td>[0,0,0,0,0,0,0,0,0,0,0,0,0,0,0,0,0]</td><td>[0,0,0,0,0,0,0,0,0,0,0,0,0,0,0,0,0]</td><td>null</td><td>0.0</td><td>0.0</td><td>null</td><td>null</td></tr><tr><td>2</td><td>2</td><td>x001f005d004y001t002m003c001</td><td>1.0</td><td>null</td><td>[0,0,0,0,0,0,0,0,0,0,0,0,0,0,0,0,0]</td><td>[0,0,0,0,0,0,0,0,0,0,0,0,0,0,0,0,0]</td><td>null</td><td>0.0</td><td>0.0</td><td>null</td><td>null</td></tr><tr><td>2</td><td>2</td><td>x003f005d003y001t002m003c001</td><td>1.0</td><td>null</td><td>[0,0,0,0,0,0,0,0,0,0,0,0,0,0,0,0,0]</td><td>[0,0,0,0,0,0,0,0,0,0,0,0,0,0,0,0,0]</td><td>null</td><td>0.0</td><td>0.0</td><td>null</td><td>null</td></tr><tr><td>2</td><td>2</td><td>x001f005d003y001t002m001c001</td><td>1.0</td><td>null</td><td>[0,0,0,0,0,0,0,0,0,0,0,0,0,0,0,0,0]</td><td>[0,0,0,0,0,0,0,0,0,0,0,0,0,0,0,0,0]</td><td>null</td><td>0.0</td><td>0.0</td><td>null</td><td>null</td></tr><tr><td>2</td><td>2</td><td>x003f005d004y001t002m003c001</td><td>1.0</td><td>null</td><td>[0,0,0,0,0,0,0,0,0,0,0,0,0,0,0,0,0]</td><td>[0,0,0,0,0,0,0,0,0,0,0,0,0,0,0,0,0]</td><td>null</td><td>0.0</td><td>0.0</td><td>null</td><td>null</td></tr><tr><td>2</td><td>5</td><td>x003f005d003y001t002m003c001</td><td>1.0</td><td>null</td><td>[0,0,0,0,0,0,0,0,0,0,0,0,0,0,0,0,0]</td><td>[0,0,0,0,0,0,0,0,0,0,0,0,0,0,0,0,0]</td><td>null</td><td>0.0</td><td>0.0</td><td>null</td><td>null</td></tr><tr><td>2</td><td>5</td><td>x003f005d003y001t002m001c001</td><td>1.0</td><td>null</td><td>[0,0,0,0,0,0,0,0,0,0,0,0,0,0,0,0,0]</td><td>[0,0,0,0,0,0,0,0,0,0,0,0,0,0,0,0,0]</td><td>null</td><td>0.0</td><td>0.0</td><td>null</td><td>null</td></tr><tr><td>2</td><td>5</td><td>x001f005d003y001t002m003c001</td><td>1.0</td><td>null</td><td>[0,0,0,0,0,0,0,0,0,0,0,0,0,0,0,0,0]</td><td>[0,0,0,0,0,0,0,0,0,0,0,0,0,0,0,0,0]</td><td>null</td><td>0.0</td><td>0.0</td><td>null</td><td>null</td></tr><tr><td>2</td><td>5</td><td>x003f005d004y001t002m003c001</td><td>1.0</td><td>null</td><td>[0,0,0,0,0,0,0,0,0,0,0,0,0,0,0,0,0]</td><td>[0,0,0,0,0,0,0,0,0,0,0,0,0,0,0,0,0]</td><td>null</td><td>0.0</td><td>0.0</td><td>null</td><td>null</td></tr><tr><td>2</td><td>5</td><td>x001f005d003y001t002m002c001</td><td>1.0</td><td>null</td><td>[0,0,0,0,0,0,0,0,0,0,0,0,0,0,0,0,0]</td><td>[0,0,0,0,0,0,0,0,0,0,0,0,0,0,0,0,0]</td><td>null</td><td>0.0</td><td>0.0</td><td>null</td><td>null</td></tr><tr><td>2</td><td>5</td><td>x001f005d004y001t002m001c001</td><td>1.0</td><td>null</td><td>[0,0,0,0,0,0,0,0,0,0,0,0,0,0,0,0,0]</td><td>[0,0,0,0,0,0,0,0,0,0,0,0,0,0,0,0,0]</td><td>null</td><td>0.0</td><td>0.0</td><td>null</td><td>null</td></tr><tr><td>2</td><td>5</td><td>x003f005d004y001t002m002c001</td><td>1.0</td><td>null</td><td>[0,0,0,0,0,0,0,0,0,0,0,0,0,0,0,0,0]</td><td>[0,0,0,0,0,0,0,0,0,0,0,0,0,0,0,0,0]</td><td>null</td><td>0.0</td><td>0.0</td><td>null</td><td>null</td></tr><tr><td>2</td><td>5</td><td>x001f005d003y001t002m001c001</td><td>1.0</td><td>null</td><td>[0,0,0,0,0,0,0,0,0,0,0,0,0,0,0,0,0]</td><td>[0,0,0,0,0,0,0,0,0,0,0,0,0,0,0,0,0]</td><td>null</td><td>0.0</td><td>0.0</td><td>null</td><td>null</td></tr><tr><td>2</td><td>5</td><td>x003f005d004y001t002m001c001</td><td>1.0</td><td>null</td><td>[0,0,0,0,0,0,0,0,0,0,0,0,0,0,0,0,0]</td><td>[0,0,0,0,0,0,0,0,0,0,0,0,0,0,0,0,0]</td><td>null</td><td>0.0</td><td>0.0</td><td>null</td><td>null</td></tr><tr><td>2</td><td>5</td><td>x001f005d004y001t002m003c001</td><td>1.0</td><td>null</td><td>[0,0,0,0,0,0,0,0,0,0,0,0,0,0,0,0,0]</td><td>[0,0,0,0,0,0,0,0,0,0,0,0,0,0,0,0,0]</td><td>null</td><td>0.0</td><td>0.0</td><td>null</td><td>null</td></tr><tr><td>2</td><td>5</td><td>x003f005d003y001t002m002c001</td><td>1.0</td><td>null</td><td>[0,0,0,0,0,0,0,0,0,0,0,0,0,0,0,0,0]</td><td>[0,0,0,0,0,0,0,0,0,0,0,0,0,0,0,0,0]</td><td>null</td><td>0.0</td><td>0.0</td><td>null</td><td>null</td></tr><tr><td>2</td><td>5</td><td>x001f005d004y001t002m002c001</td><td>1.0</td><td>null</td><td>[0,0,0,0,0,0,0,0,0,0,0,0,0,0,0,0,0]</td><td>[0,0,0,0,0,0,0,0,0,0,0,0,0,0,0,0,0]</td><td>null</td><td>0.0</td><td>0.0</td><td>null</td><td>null</td></tr><tr><td>2</td><td>18</td><td>x003f005d003y001t002m002c001</td><td>1.0</td><td>null</td><td>[0,0,0,0,0,0,0,0,0,0,0,0,0,0,0,0,0]</td><td>[0,0,0,0,0,0,0,0,0,0,0,0,0,0,0,0,0]</td><td>null</td><td>0.0</td><td>0.0</td><td>null</td><td>null</td></tr><tr><td>2</td><td>18</td><td>x001f005d003y001t002m003c001</td><td>1.0</td><td>null</td><td>[0,0,0,0,0,0,0,0,0,0,0,0,0,0,0,0,0]</td><td>[0,0,0,0,0,0,0,0,0,0,0,0,0,0,0,0,0]</td><td>null</td><td>0.0</td><td>0.0</td><td>null</td><td>null</td></tr><tr><td>2</td><td>18</td><td>x003f005d004y001t002m003c001</td><td>1.0</td><td>null</td><td>[0,0,0,0,0,0,0,0,0,0,0,0,0,0,0,0,0]</td><td>[0,0,0,0,0,0,0,0,0,0,0,0,0,0,0,0,0]</td><td>null</td><td>0.0</td><td>0.0</td><td>null</td><td>null</td></tr><tr><td>2</td><td>18</td><td>x001f005d003y001t002m002c001</td><td>1.0</td><td>null</td><td>[0,0,0,0,0,0,0,0,0,0,0,0,0,0,0,0,0]</td><td>[0,0,0,0,0,0,0,0,0,0,0,0,0,0,0,0,0]</td><td>null</td><td>0.0</td><td>0.0</td><td>null</td><td>null</td></tr></table>"
      ],
      "text/plain": [
       "<IPython.core.display.HTML object>"
      ]
     },
     "execution_count": 35,
     "metadata": {},
     "output_type": "execute_result"
    }
   ],
   "source": [
    "%%sparksql\n",
    "select store_nbr, family2, scenario_id,score,rmsle,predict_y,test_y,r2, mae,mse,rmse,msle\n",
    "from results       \n",
    "where 1=1 \n",
    "--and scenario_id like'x001f006d003y001t002m001c001'\n",
    "--and store_nbr = 1\n",
    "--and family2 = 1\n",
    "and scenario_id like'%t002%'\n",
    "--and family2 between 21 and 40\n",
    "--and r2 between 0.1 and 0.3\n",
    "--and rmsle between 0.3 and 0.5\n",
    "order by score desc, cast(store_nbr as int), cast(family2 as int), rmsle \n",
    "limit 70"
   ]
  },
  {
   "cell_type": "code",
   "execution_count": 25,
   "metadata": {},
   "outputs": [],
   "source": [
    "# df = spark.sql('''\n",
    "# with temp1 as (\n",
    "#     select store_nbr, family2\n",
    "#          , max(score) as score\n",
    "#          , min(scenario_id) as scenario_id_min\n",
    "#          , max(scenario_id) as scenario_id_max\n",
    "#     from  (select * \n",
    "#            from results\n",
    "#            where  length(predict_y) - length(replace(predict_y,',','')) + 1 > 10\n",
    "#            )\n",
    "#     where  1=1\n",
    "#     and    scenario_id like'%t00%'\n",
    "#     and    scenario_id like'%f005%'\n",
    "#     and    scenario_id = replace(replace(replace(scenario_id,'t001','t002'),'d001','d003'),'d002','d004')\n",
    "#     group by store_nbr, family2\n",
    "#     order by cast(store_nbr as int), cast(family2 as int)\n",
    "# ), temp2 as (\n",
    "#     select a.store_nbr, a.family2, a.scenario_id, a.score, a.predict_y\n",
    "#     from   results a,\n",
    "#            temp1 b\n",
    "#     where  a.store_nbr = b.store_nbr\n",
    "#     and    a.family2   = b.family2\n",
    "#     and    a.score     = b.score\n",
    "#     order by a.store_nbr, a.family2\n",
    "# ), temp3 as (\n",
    "#     select a.store_nbr, a.family2, min(a.scenario_id) as scenario_id, a.score,replace(replace(replace(min(a.scenario_id),'t001','t002'),'d001','d003'),'d002','d004') as scenario_id2\n",
    "#     from   temp2 a\n",
    "#     where  1=1\n",
    "#     --and    store_nbr = 20\n",
    "#     --and    family2 = 1\n",
    "#     group by a.store_nbr, a.family2, a.score\n",
    "#     order by cast(a.store_nbr as int), cast(a.family2 as int), a.score\n",
    "# ), temp4 as (\n",
    "#     select a.store_nbr, a.family2, a.scenario_id, a.score, replace(replace(a.predict_y,'['),']') as predict_y\n",
    "#     from   results a,\n",
    "#            temp3 b\n",
    "#     where  a.store_nbr = b.store_nbr\n",
    "#     and    a.family2   = b.family2\n",
    "#     and    a.scenario_id = b.scenario_id2\n",
    "#     order by cast(a.store_nbr as int), cast(a.family2 as int)\n",
    "# ), temp5 as (\n",
    "#     select  '20170816' as date8, store_nbr, family2 ,split(predict_y,',')[0]  sales, predict_y from temp4 union all\n",
    "#     select  '20170817' as date8, store_nbr, family2 ,split(predict_y,',')[1]  sales, predict_y from temp4 union all\n",
    "#     select  '20170818' as date8, store_nbr, family2 ,split(predict_y,',')[2]  sales, predict_y from temp4 union all\n",
    "#     select  '20170819' as date8, store_nbr, family2 ,split(predict_y,',')[3]  sales, predict_y from temp4 union all\n",
    "#     select  '20170820' as date8, store_nbr, family2 ,split(predict_y,',')[4]  sales, predict_y from temp4 union all\n",
    "#     select  '20170821' as date8, store_nbr, family2 ,split(predict_y,',')[5]  sales, predict_y from temp4 union all\n",
    "#     select  '20170822' as date8, store_nbr, family2 ,split(predict_y,',')[6]  sales, predict_y from temp4 union all\n",
    "#     select  '20170823' as date8, store_nbr, family2 ,split(predict_y,',')[7]  sales, predict_y from temp4 union all\n",
    "#     select  '20170824' as date8, store_nbr, family2 ,split(predict_y,',')[8]  sales, predict_y from temp4 union all\n",
    "#     select  '20170825' as date8, store_nbr, family2 ,split(predict_y,',')[9]  sales, predict_y from temp4 union all\n",
    "#     select  '20170826' as date8, store_nbr, family2 ,split(predict_y,',')[10] sales, predict_y from temp4 union all\n",
    "#     select  '20170827' as date8, store_nbr, family2 ,split(predict_y,',')[11] sales, predict_y from temp4 union all\n",
    "#     select  '20170828' as date8, store_nbr, family2 ,split(predict_y,',')[12] sales, predict_y from temp4 union all\n",
    "#     select  '20170829' as date8, store_nbr, family2 ,split(predict_y,',')[13] sales, predict_y from temp4 union all\n",
    "#     select  '20170830' as date8, store_nbr, family2 ,split(predict_y,',')[14] sales, predict_y from temp4 union all\n",
    "#     select  '20170831' as date8, store_nbr, family2 ,split(predict_y,',')[15] sales, predict_y from temp4\n",
    "# ), temp6 as (\n",
    "#     select  b.id, a.*, b.family\n",
    "#     from    temp5 a, \n",
    "#             train_master_all b\n",
    "#     where   a.store_nbr = b.store_nbr\n",
    "#     and     a.family2   = b.family2\n",
    "#     and     a.date8     = b.date8    \n",
    "# ), temp7 as (\n",
    "#     --select *\n",
    "#     select id, sales\n",
    "#     from   temp6 a\n",
    "#     order by a.id, cast(a.store_nbr as int), cast(a.family2 as int), date8\n",
    "# )\n",
    "# select * from temp7\n",
    "# ''')\n",
    "# #df.show(5,False)\n",
    "# pdf = df.toPandas()\n",
    "# path = \"d:/lge/pycharm-projects/kaggle_store_sales/output\"\n",
    "# pdf.to_csv(f'{path}/submission/submission_cat2007_20220426.csv', index=False)\n",
    "\n"
   ]
  },
  {
   "cell_type": "code",
   "execution_count": 26,
   "metadata": {},
   "outputs": [
    {
     "ename": "NameError",
     "evalue": "name 'submission_cat2007_20220425' is not defined",
     "output_type": "error",
     "traceback": [
      "\u001B[1;31m---------------------------------------------------------------------------\u001B[0m",
      "\u001B[1;31mNameError\u001B[0m                                 Traceback (most recent call last)",
      "\u001B[1;32m<ipython-input-26-ea84939148cc>\u001B[0m in \u001B[0;36m<module>\u001B[1;34m\u001B[0m\n\u001B[0;32m      1\u001B[0m \u001B[0mpath\u001B[0m \u001B[1;33m=\u001B[0m \u001B[1;34m\"d:/lge/pycharm-projects/kaggle_store_sales/output\"\u001B[0m\u001B[1;33m\u001B[0m\u001B[1;33m\u001B[0m\u001B[0m\n\u001B[1;32m----> 2\u001B[1;33m \u001B[0msubmission_cat2007_20220426\u001B[0m \u001B[1;33m=\u001B[0m \u001B[0mspark\u001B[0m\u001B[1;33m.\u001B[0m\u001B[0mread\u001B[0m\u001B[1;33m.\u001B[0m\u001B[0mcsv\u001B[0m\u001B[1;33m(\u001B[0m\u001B[1;34mf\"{path}/submission/submission_cat2007_20220426.csv\"\u001B[0m\u001B[1;33m,\u001B[0m \u001B[0minferSchema\u001B[0m \u001B[1;33m=\u001B[0m \u001B[1;32mTrue\u001B[0m\u001B[1;33m,\u001B[0m \u001B[0mheader\u001B[0m \u001B[1;33m=\u001B[0m \u001B[1;32mTrue\u001B[0m\u001B[1;33m)\u001B[0m\u001B[1;33m;\u001B[0m\u001B[0msubmission_cat2007_20220425\u001B[0m\u001B[1;33m.\u001B[0m\u001B[0mcreateOrReplaceTempView\u001B[0m\u001B[1;33m(\u001B[0m\u001B[1;34m\"submission_cat2007_20220426\"\u001B[0m\u001B[1;33m)\u001B[0m\u001B[1;33m;\u001B[0m\u001B[0mspark\u001B[0m\u001B[1;33m.\u001B[0m\u001B[0msql\u001B[0m\u001B[1;33m(\u001B[0m\u001B[1;34m\"CACHE TABLE submission_cat2007_20220426\"\u001B[0m\u001B[1;33m)\u001B[0m\u001B[1;33m\u001B[0m\u001B[1;33m\u001B[0m\u001B[0m\n\u001B[0m",
      "\u001B[1;31mNameError\u001B[0m: name 'submission_cat2007_20220425' is not defined"
     ]
    }
   ],
   "source": [
    "path = \"d:/lge/pycharm-projects/kaggle_store_sales/output\"\n",
    "submission_cat2007_20220426 = spark.read.csv(f\"{path}/submission/submission_cat2007_20220426.csv\", inferSchema = True, header = True);submission_cat2007_20220425.createOrReplaceTempView(\"submission_cat2007_20220426\");spark.sql(\"CACHE TABLE submission_cat2007_20220426\")"
   ]
  },
  {
   "cell_type": "code",
   "execution_count": 31,
   "metadata": {},
   "outputs": [
    {
     "data": {
      "text/html": [
       "<table><tr style=\"border-bottom: 1px solid\"><td style=\"font-weight: bold\">work_dtm16</td><td style=\"font-weight: bold\">scenario_id</td><td style=\"font-weight: bold\">scenario_desc</td><td style=\"font-weight: bold\">feature_src</td><td style=\"font-weight: bold\">feature_col</td><td style=\"font-weight: bold\">feature_sdt8</td><td style=\"font-weight: bold\">feature_edt8</td><td style=\"font-weight: bold\">feature_desc</td><td style=\"font-weight: bold\">predict_col</td><td style=\"font-weight: bold\">predict_sdt8</td><td style=\"font-weight: bold\">predict_edt8</td><td style=\"font-weight: bold\">auto_ml_model</td><td style=\"font-weight: bold\">model_name</td><td style=\"font-weight: bold\">model_cfg</td><td style=\"font-weight: bold\">store_nbr</td><td style=\"font-weight: bold\">family2</td><td style=\"font-weight: bold\">test_y</td><td style=\"font-weight: bold\">predict_y</td><td style=\"font-weight: bold\">mae</td><td style=\"font-weight: bold\">mse</td><td style=\"font-weight: bold\">rmse</td><td style=\"font-weight: bold\">msle</td><td style=\"font-weight: bold\">rmsle</td><td style=\"font-weight: bold\">r2</td><td style=\"font-weight: bold\">score</td><td style=\"font-weight: bold\">fit_tm_sec</td><td style=\"font-weight: bold\">file_nm</td><td style=\"font-weight: bold\">memo</td></tr><tr><td>2022-04-30 09:40</td><td>x001f006d001y001t001m001c001</td><td>[train_master_all][year4, season, day_of_week, onpromotion][20130101,20170730][sales][20170801,20170815][LinearRegression]</td><td>train_master_all</td><td>year4, season, day_of_week, onpromotion</td><td>20130101</td><td>20170730</td><td></td><td>sales</td><td>20170801</td><td>20170815</td><td></td><td>LinearRegression</td><td></td><td>1</td><td>1</td><td>[5,4,3,8,5,6,7,4,7,9,1,6,1,1,4]</td><td>[4,4,4,4,4,3,5,4,4,4,4,4,3,5,4]</td><td>2.07</td><td>6.6</td><td>2.57</td><td>0.28</td><td>0.53</td><td>-0.11</td><td>0.72</td><td>0.121428</td><td></td><td></td></tr><tr><td>2022-04-30 09:40</td><td>x001f006d001y001t001m001c001</td><td>[train_master_all][year4, season, day_of_week, onpromotion][20130101,20170730][sales][20170801,20170815][LinearRegression]</td><td>train_master_all</td><td>year4, season, day_of_week, onpromotion</td><td>20130101</td><td>20170730</td><td></td><td>sales</td><td>20170801</td><td>20170815</td><td></td><td>LinearRegression</td><td></td><td>1</td><td>2</td><td>[0,0,0,0,0,0,0,0,0,0,0,0,0,0,0]</td><td>[0,0,0,0,0,0,0,0,0,0,0,0,0,0,0]</td><td>0.0</td><td>0.0</td><td>0.0</td><td>0.0</td><td>0.0</td><td>1.0</td><td>1.0</td><td>0.097076</td><td></td><td></td></tr><tr><td>2022-04-30 09:40</td><td>x001f006d001y001t001m001c001</td><td>[train_master_all][year4, season, day_of_week, onpromotion][20130101,20170730][sales][20170801,20170815][LinearRegression]</td><td>train_master_all</td><td>year4, season, day_of_week, onpromotion</td><td>20130101</td><td>20170730</td><td></td><td>sales</td><td>20170801</td><td>20170815</td><td></td><td>LinearRegression</td><td></td><td>1</td><td>3</td><td>[4,2,5,7,3,2,5,2,4,10,1,3,1,6,4]</td><td>[2,4,4,4,4,3,4,4,4,4,4,4,2,4,4]</td><td>1.73</td><td>5.07</td><td>2.25</td><td>0.2</td><td>0.45</td><td>0.08</td><td>0.8</td><td>0.097</td><td></td><td></td></tr><tr><td>2022-04-30 09:40</td><td>x001f006d001y001t001m001c001</td><td>[train_master_all][year4, season, day_of_week, onpromotion][20130101,20170730][sales][20170801,20170815][LinearRegression]</td><td>train_master_all</td><td>year4, season, day_of_week, onpromotion</td><td>20130101</td><td>20170730</td><td></td><td>sales</td><td>20170801</td><td>20170815</td><td></td><td>LinearRegression</td><td></td><td>1</td><td>4</td><td>[2627,2645,2037,2479,2093,968,2086,2418,2311,2377,1006,1659,803,2201,1942]</td><td>[2593,2499,2299,2230,2123,2023,2561,2474,2386,2292,2186,2123,2023,2574,2499]</td><td>417.4</td><td>336941.8</td><td>580.47</td><td>0.15</td><td>0.38</td><td>0.01</td><td>0.85</td><td>0.098541</td><td></td><td></td></tr><tr><td>2022-04-30 09:40</td><td>x001f006d001y001t001m001c001</td><td>[train_master_all][year4, season, day_of_week, onpromotion][20130101,20170730][sales][20170801,20170815][LinearRegression]</td><td>train_master_all</td><td>year4, season, day_of_week, onpromotion</td><td>20130101</td><td>20170730</td><td></td><td>sales</td><td>20170801</td><td>20170815</td><td></td><td>LinearRegression</td><td></td><td>1</td><td>5</td><td>[0,0,0,0,0,0,0,0,0,0,0,0,0,0,0]</td><td>[0,0,0,0,0,0,0,0,0,0,0,0,0,0,0]</td><td>0.0</td><td>0.0</td><td>0.0</td><td>0.0</td><td>0.0</td><td>1.0</td><td>1.0</td><td>0.114</td><td></td><td></td></tr><tr><td>2022-04-30 09:40</td><td>x001f006d001y001t001m001c001</td><td>[train_master_all][year4, season, day_of_week, onpromotion][20130101,20170730][sales][20170801,20170815][LinearRegression]</td><td>train_master_all</td><td>year4, season, day_of_week, onpromotion</td><td>20130101</td><td>20170730</td><td></td><td>sales</td><td>20170801</td><td>20170815</td><td></td><td>LinearRegression</td><td></td><td>1</td><td>6</td><td>[373,428,282,385,271,144,328,361,399,417,145,243,136,346,329]</td><td>[444,418,419,397,364,334,492,478,452,431,397,364,338,504,474]</td><td>115.93</td><td>18488.73</td><td>135.97</td><td>0.23</td><td>0.48</td><td>-0.99</td><td>0.77</td><td>0.099</td><td></td><td></td></tr><tr><td>2022-04-30 09:40</td><td>x001f006d001y001t001m001c001</td><td>[train_master_all][year4, season, day_of_week, onpromotion][20130101,20170730][sales][20170801,20170815][LinearRegression]</td><td>train_master_all</td><td>year4, season, day_of_week, onpromotion</td><td>20130101</td><td>20170730</td><td></td><td>sales</td><td>20170801</td><td>20170815</td><td></td><td>LinearRegression</td><td></td><td>1</td><td>7</td><td>[11,7,10,24,12,2,18,11,12,17,4,3,1,4,21]</td><td>[23,22,20,19,18,17,24,23,22,20,19,18,17,24,23]</td><td>10.8</td><td>143.6</td><td>11.98</td><td>1.21</td><td>1.1</td><td>-2.03</td><td>-0.21</td><td>0.101</td><td></td><td></td></tr><tr><td>2022-04-30 09:40</td><td>x001f006d001y001t001m001c001</td><td>[train_master_all][year4, season, day_of_week, onpromotion][20130101,20170730][sales][20170801,20170815][LinearRegression]</td><td>train_master_all</td><td>year4, season, day_of_week, onpromotion</td><td>20130101</td><td>20170730</td><td></td><td>sales</td><td>20170801</td><td>20170815</td><td></td><td>LinearRegression</td><td></td><td>1</td><td>8</td><td>[867,942,622,729,442,233,741,767,651,696,341,351,169,571,703]</td><td>[794,735,659,608,552,487,836,781,722,671,603,548,485,837,779]</td><td>141.6</td><td>29302.13</td><td>171.18</td><td>0.17</td><td>0.41</td><td>0.41</td><td>0.83</td><td>0.094999</td><td></td><td></td></tr><tr><td>2022-04-30 09:40</td><td>x001f006d001y001t001m001c001</td><td>[train_master_all][year4, season, day_of_week, onpromotion][20130101,20170730][sales][20170801,20170815][LinearRegression]</td><td>train_master_all</td><td>year4, season, day_of_week, onpromotion</td><td>20130101</td><td>20170730</td><td></td><td>sales</td><td>20170801</td><td>20170815</td><td></td><td>LinearRegression</td><td></td><td>1</td><td>9</td><td>[668,941,529,767,624,312,717,569,789,736,343,526,266,699,602]</td><td>[891,854,817,779,742,703,931,893,855,817,779,741,703,931,893]</td><td>227.67</td><td>68978.33</td><td>262.64</td><td>0.21</td><td>0.46</td><td>-1.08</td><td>0.79</td><td>0.109</td><td></td><td></td></tr><tr><td>2022-04-30 09:40</td><td>x001f006d001y001t001m001c001</td><td>[train_master_all][year4, season, day_of_week, onpromotion][20130101,20170730][sales][20170801,20170815][LinearRegression]</td><td>train_master_all</td><td>year4, season, day_of_week, onpromotion</td><td>20130101</td><td>20170730</td><td></td><td>sales</td><td>20170801</td><td>20170815</td><td></td><td>LinearRegression</td><td></td><td>1</td><td>10</td><td>[133,150,106,170,104,60,138,130,123,139,64,99,47,154,116]</td><td>[149,140,128,176,114,99,157,148,141,133,156,110,102,160,149]</td><td>24.07</td><td>1085.13</td><td>32.94</td><td>0.12</td><td>0.35</td><td>0.11</td><td>0.88</td><td>0.105819</td><td></td><td></td></tr><tr><td>2022-04-30 09:40</td><td>x001f006d001y001t001m001c001</td><td>[train_master_all][year4, season, day_of_week, onpromotion][20130101,20170730][sales][20170801,20170815][LinearRegression]</td><td>train_master_all</td><td>year4, season, day_of_week, onpromotion</td><td>20130101</td><td>20170730</td><td></td><td>sales</td><td>20170801</td><td>20170815</td><td></td><td>LinearRegression</td><td></td><td>1</td><td>11</td><td>[161,160,120,143,155,47,152,130,134,114,86,113,60,170,131]</td><td>[141,134,127,152,113,106,148,141,134,127,148,113,106,148,141]</td><td>22.07</td><td>886.73</td><td>29.78</td><td>0.1</td><td>0.31</td><td>0.29</td><td>0.9</td><td>0.106605</td><td></td><td></td></tr><tr><td>2022-04-30 09:40</td><td>x001f006d001y001t001m001c001</td><td>[train_master_all][year4, season, day_of_week, onpromotion][20130101,20170730][sales][20170801,20170815][LinearRegression]</td><td>train_master_all</td><td>year4, season, day_of_week, onpromotion</td><td>20130101</td><td>20170730</td><td></td><td>sales</td><td>20170801</td><td>20170815</td><td></td><td>LinearRegression</td><td></td><td>1</td><td>12</td><td>[144,200,132,143,155,40,136,134,154,167,61,107,50,110,89]</td><td>[161,163,148,141,135,128,158,161,145,148,141,135,128,158,161]</td><td>37.53</td><td>2164.87</td><td>46.53</td><td>0.24</td><td>0.49</td><td>-0.13</td><td>0.76</td><td>0.098157</td><td></td><td></td></tr><tr><td>2022-04-30 09:40</td><td>x001f006d001y001t001m001c001</td><td>[train_master_all][year4, season, day_of_week, onpromotion][20130101,20170730][sales][20170801,20170815][LinearRegression]</td><td>train_master_all</td><td>year4, season, day_of_week, onpromotion</td><td>20130101</td><td>20170730</td><td></td><td>sales</td><td>20170801</td><td>20170815</td><td></td><td>LinearRegression</td><td></td><td>1</td><td>13</td><td>[2872,3247,2177,2778,2034,1025,2551,3062,2719,2591,1270,1630,952,2407,2508]</td><td>[3038,2973,2603,2487,2284,2124,3190,2965,2886,2617,2407,2277,2052,3088,2922]</td><td>494.27</td><td>376128.0</td><td>613.29</td><td>0.12</td><td>0.35</td><td>0.24</td><td>0.88</td><td>0.097107</td><td></td><td></td></tr><tr><td>2022-04-30 09:40</td><td>x001f006d001y001t001m001c001</td><td>[train_master_all][year4, season, day_of_week, onpromotion][20130101,20170730][sales][20170801,20170815][LinearRegression]</td><td>train_master_all</td><td>year4, season, day_of_week, onpromotion</td><td>20130101</td><td>20170730</td><td></td><td>sales</td><td>20170801</td><td>20170815</td><td></td><td>LinearRegression</td><td></td><td>1</td><td>14</td><td>[25,26,24,9,13,11,19,23,20,23,9,19,6,20,13]</td><td>[24,22,20,18,16,14,26,24,22,20,18,16,14,26,24]</td><td>4.93</td><td>33.73</td><td>5.81</td><td>0.14</td><td>0.37</td><td>0.17</td><td>0.86</td><td>0.097</td><td></td><td></td></tr><tr><td>2022-04-30 09:40</td><td>x001f006d001y001t001m001c001</td><td>[train_master_all][year4, season, day_of_week, onpromotion][20130101,20170730][sales][20170801,20170815][LinearRegression]</td><td>train_master_all</td><td>year4, season, day_of_week, onpromotion</td><td>20130101</td><td>20170730</td><td></td><td>sales</td><td>20170801</td><td>20170815</td><td></td><td>LinearRegression</td><td></td><td>1</td><td>15</td><td>[0,1,3,4,0,2,2,3,3,1,1,0,1,0,3]</td><td>[2,1,1,1,1,1,2,2,1,1,1,1,1,2,2]</td><td>1.07</td><td>2.0</td><td>1.41</td><td>0.37</td><td>0.61</td><td>-0.17</td><td>0.63</td><td>0.101</td><td></td><td></td></tr><tr><td>2022-04-30 09:40</td><td>x001f006d001y001t001m001c001</td><td>[train_master_all][year4, season, day_of_week, onpromotion][20130101,20170730][sales][20170801,20170815][LinearRegression]</td><td>train_master_all</td><td>year4, season, day_of_week, onpromotion</td><td>20130101</td><td>20170730</td><td></td><td>sales</td><td>20170801</td><td>20170815</td><td></td><td>LinearRegression</td><td></td><td>1</td><td>16</td><td>[20,38,20,49,10,2,19,22,29,39,27,17,13,50,30]</td><td>[31,31,27,27,26,25,29,29,29,27,27,26,25,29,29]</td><td>10.53</td><td>163.2</td><td>12.77</td><td>0.49</td><td>0.7</td><td>0.08</td><td>0.51</td><td>0.096158</td><td></td><td></td></tr><tr><td>2022-04-30 09:40</td><td>x001f006d001y001t001m001c001</td><td>[train_master_all][year4, season, day_of_week, onpromotion][20130101,20170730][sales][20170801,20170815][LinearRegression]</td><td>train_master_all</td><td>year4, season, day_of_week, onpromotion</td><td>20130101</td><td>20170730</td><td></td><td>sales</td><td>20170801</td><td>20170815</td><td></td><td>LinearRegression</td><td></td><td>1</td><td>17</td><td>[38,18,26,22,25,8,24,27,16,31,14,31,8,31,33]</td><td>[35,26,33,32,23,26,36,35,34,37,28,35,26,36,39]</td><td>9.27</td><td>114.33</td><td>10.69</td><td>0.27</td><td>0.52</td><td>-0.49</td><td>0.73</td><td>0.100999</td><td></td><td></td></tr><tr><td>2022-04-30 09:40</td><td>x001f006d001y001t001m001c001</td><td>[train_master_all][year4, season, day_of_week, onpromotion][20130101,20170730][sales][20170801,20170815][LinearRegression]</td><td>train_master_all</td><td>year4, season, day_of_week, onpromotion</td><td>20130101</td><td>20170730</td><td></td><td>sales</td><td>20170801</td><td>20170815</td><td></td><td>LinearRegression</td><td></td><td>1</td><td>18</td><td>[0,0,0,0,0,0,0,0,0,0,0,0,0,0,0]</td><td>[0,0,0,0,0,0,0,0,0,0,0,0,0,0,0]</td><td>0.0</td><td>0.0</td><td>0.0</td><td>0.0</td><td>0.0</td><td>1.0</td><td>1.0</td><td>0.097</td><td></td><td></td></tr><tr><td>2022-04-30 09:40</td><td>x001f006d001y001t001m001c001</td><td>[train_master_all][year4, season, day_of_week, onpromotion][20130101,20170730][sales][20170801,20170815][LinearRegression]</td><td>train_master_all</td><td>year4, season, day_of_week, onpromotion</td><td>20130101</td><td>20170730</td><td></td><td>sales</td><td>20170801</td><td>20170815</td><td></td><td>LinearRegression</td><td></td><td>1</td><td>19</td><td>[241,277,169,168,158,77,168,208,161,170,74,116,61,161,156]</td><td>[225,216,212,201,196,188,231,229,221,209,206,197,193,238,230]</td><td>65.4</td><td>5535.0</td><td>74.4</td><td>0.28</td><td>0.53</td><td>-0.7</td><td>0.72</td><td>0.097</td><td></td><td></td></tr><tr><td>2022-04-30 09:40</td><td>x001f006d001y001t001m001c001</td><td>[train_master_all][year4, season, day_of_week, onpromotion][20130101,20170730][sales][20170801,20170815][LinearRegression]</td><td>train_master_all</td><td>year4, season, day_of_week, onpromotion</td><td>20130101</td><td>20170730</td><td></td><td>sales</td><td>20170801</td><td>20170815</td><td></td><td>LinearRegression</td><td></td><td>1</td><td>20</td><td>[12,18,13,10,16,6,19,19,31,7,3,9,7,17,9]</td><td>[20,19,18,17,16,15,20,20,19,18,17,16,15,20,20]</td><td>6.53</td><td>61.73</td><td>7.86</td><td>0.39</td><td>0.62</td><td>-0.31</td><td>0.61</td><td>0.100111</td><td></td><td></td></tr></table>"
      ],
      "text/plain": [
       "<IPython.core.display.HTML object>"
      ]
     },
     "execution_count": 31,
     "metadata": {},
     "output_type": "execute_result"
    }
   ],
   "source": [
    "%%sparksql\n",
    "\n",
    "--select store_nbr, family2, scenario_id, score, predict_y\n",
    "select *\n",
    "from   results\n",
    "where  1=1\n",
    "and scenario_id = 'x001f006d001y001t001m001c001'\n",
    "--and    store_nbr = 1\n",
    "--and    family2 = 1\n",
    "and    scenario_id like'%f006%'\n",
    "limit 20"
   ]
  },
  {
   "cell_type": "code",
   "execution_count": 27,
   "metadata": {},
   "outputs": [
    {
     "data": {
      "text/html": [
       "<table><tr style=\"border-bottom: 1px solid\"><td style=\"font-weight: bold\">store_nbr</td><td style=\"font-weight: bold\">family2</td><td style=\"font-weight: bold\">scenario_id</td><td style=\"font-weight: bold\">score</td><td style=\"font-weight: bold\">predict_y</td></tr><tr><td>1</td><td>1</td><td>x003f005d003y001t002m001c001</td><td>-1.43</td><td>[4,4,4,4,4,3,5,4,4,4,4,4,3,5,4,4,4]</td></tr><tr><td>1</td><td>1</td><td>x003f005d004y001t002m001c001</td><td>-1.47</td><td>[4,4,4,4,4,4,5,4,4,4,4,4,4,4,4,4,4]</td></tr><tr><td>1</td><td>1</td><td>x003f005d003y001t002m003c001</td><td>-1.24</td><td>[4,4,4,4,3,3,4,4,4,4,3,3,3,4,4,4,4]</td></tr><tr><td>1</td><td>1</td><td>x003f005d004y001t002m003c001</td><td>-1.44</td><td>[4,4,4,4,4,4,4,4,4,4,4,4,4,4,4,4,4]</td></tr><tr><td>1</td><td>1</td><td>x001f005d003y001t002m001c001</td><td>-1.43</td><td>[4,4,4,4,4,3,5,4,4,4,4,4,3,5,4,4,4]</td></tr><tr><td>1</td><td>1</td><td>x001f005d004y001t002m001c001</td><td>-1.47</td><td>[4,4,4,4,4,4,5,4,4,4,4,4,4,4,4,4,4]</td></tr><tr><td>1</td><td>1</td><td>x001f005d003y001t002m003c001</td><td>-1.24</td><td>[4,4,4,4,3,3,4,4,4,4,3,3,3,4,4,4,4]</td></tr><tr><td>1</td><td>1</td><td>x001f005d004y001t002m003c001</td><td>-1.44</td><td>[4,4,4,4,4,4,4,4,4,4,4,4,4,4,4,4,4]</td></tr><tr><td>1</td><td>1</td><td>x003f005d003y001t002m002c001</td><td>-1.4</td><td>[4,4,4,4,4,3,5,4,4,4,4,4,3,4,4,4,4]</td></tr><tr><td>1</td><td>1</td><td>x003f005d004y001t002m002c001</td><td>-1.44</td><td>[4,4,4,4,4,4,4,4,4,4,4,4,4,4,4,4,4]</td></tr><tr><td>1</td><td>1</td><td>x001f005d003y001t002m002c001</td><td>-1.4</td><td>[4,4,4,4,4,3,5,4,4,4,4,4,3,4,4,4,4]</td></tr><tr><td>1</td><td>1</td><td>x001f005d004y001t002m002c001</td><td>-1.44</td><td>[4,4,4,4,4,4,4,4,4,4,4,4,4,4,4,4,4]</td></tr><tr><td>1</td><td>1</td><td>x002f005d003y001t002m001c001</td><td>-1.43</td><td>[4,4,4,4,4,3,5,4,4,4,4,4,3,5,4,4,4]</td></tr><tr><td>1</td><td>1</td><td>x002f005d004y001t002m001c001</td><td>-1.47</td><td>[4,4,4,4,4,4,5,4,4,4,4,4,4,4,4,4,4]</td></tr><tr><td>1</td><td>1</td><td>x002f005d003y001t002m003c001</td><td>-1.24</td><td>[4,4,4,4,3,3,4,4,4,4,3,3,3,4,4,4,4]</td></tr><tr><td>1</td><td>1</td><td>x002f005d004y001t002m003c001</td><td>-1.44</td><td>[4,4,4,4,4,4,4,4,4,4,4,4,4,4,4,4,4]</td></tr><tr><td>1</td><td>1</td><td>x002f005d003y001t002m002c001</td><td>-1.4</td><td>[4,4,4,4,4,3,5,4,4,4,4,4,3,4,4,4,4]</td></tr><tr><td>1</td><td>1</td><td>x002f005d004y001t002m002c001</td><td>-1.44</td><td>[4,4,4,4,4,4,4,4,4,4,4,4,4,4,4,4,4]</td></tr></table>"
      ],
      "text/plain": [
       "<IPython.core.display.HTML object>"
      ]
     },
     "execution_count": 27,
     "metadata": {},
     "output_type": "execute_result"
    }
   ],
   "source": [
    "%%sparksql\n",
    "\n",
    "select store_nbr, family2, scenario_id, score, predict_y\n",
    "from   results\n",
    "where  1=1\n",
    "--and scenario_id = 'x003f005d003y001t002m003c001'\n",
    "and    store_nbr = 1\n",
    "and    family2 = 1\n",
    "and    scenario_id like'%t002%'\n",
    "limit 20"
   ]
  },
  {
   "cell_type": "code",
   "execution_count": null,
   "metadata": {},
   "outputs": [],
   "source": [
    "%%sparksql\n",
    "--select count(*) \n",
    "select *\n",
    "from   submission_cat2007_20220426\n",
    "where sales is null\n",
    "order by id\n",
    "limit 10\n"
   ]
  },
  {
   "cell_type": "code",
   "execution_count": null,
   "metadata": {},
   "outputs": [],
   "source": [
    "%%sparksql\n",
    "select * \n",
    "from   train_master_all\n",
    "where  store_nbr = 20\n",
    "and    family2 = 1\n",
    "and date8 >= '20170816'\n",
    "--and id in (3003066,3003074)\n",
    "limit 5\n"
   ]
  },
  {
   "cell_type": "code",
   "execution_count": null,
   "metadata": {},
   "outputs": [],
   "source": [
    "%%sparksql\n",
    "select * \n",
    "from   results\n",
    "where  store_nbr = 20\n",
    "and family2 = 1"
   ]
  },
  {
   "cell_type": "code",
   "execution_count": null,
   "metadata": {},
   "outputs": [],
   "source": [
    "path = \"d:/lge/pycharm-projects/kaggle_store_sales/output\"\n",
    "pdf.to_csv(f'{path}/submission/submission_cat2007_20220425.csv', index=False)"
   ]
  },
  {
   "cell_type": "code",
   "execution_count": null,
   "metadata": {},
   "outputs": [],
   "source": [
    "train_master_all\n",
    "df = spark.sql('''\n",
    "with temp1 as (\n",
    "    select id,date,date10,date8,store_nbr,family2,family\n",
    "    from   train_master_all\n",
    "    where  date8 >= '20170816'\n",
    "    order by id, store_nbr, family2\n",
    ")\n",
    "select *\n",
    "from   temp1\n",
    "order by cast(store_nbr as int)\n",
    "''')\n",
    "df.show(5,False)\n",
    "# pdf = df.toPandas()\n",
    "# pdf.to_csv(f'{path}/holidays_events_mart01.csv')\n",
    "\n"
   ]
  },
  {
   "cell_type": "code",
   "execution_count": null,
   "metadata": {},
   "outputs": [],
   "source": [
    "spark.sql('''\n",
    "select count(case when score < 0.20 then 1 else null end) as s10\n",
    "     , count(case when score between 0.21 and 0.40 then 1 else null end) as s30      \n",
    "     , count(case when score between 0.41 and 0.60 then 1 else null end) as s50       \n",
    "     , count(case when score between 0.61 and 0.80 then 1 else null end) as s70       \n",
    "     , count(case when score > 0.81 then 1 else null end) as s90       \n",
    "from (\n",
    "    select max(a.scenario_id) as scenario_id, a.store_nbr, a.family2, a.score \n",
    "    from   results a,\n",
    "          ( select store_nbr, family2, max(score) score\n",
    "            from results \n",
    "            group by store_nbr, family2\n",
    "          ) b\n",
    "    where a.store_nbr = b.store_nbr\n",
    "    and   a.family2 = b.family2\n",
    "    and   a.score = b.score\n",
    "    group by a.store_nbr, a.family2, a.score\n",
    "    order by a.store_nbr, a.family2, a.score\n",
    "    )\n",
    "''').show(2000,False)"
   ]
  },
  {
   "cell_type": "code",
   "execution_count": null,
   "metadata": {},
   "outputs": [],
   "source": [
    "%%sparksql\n",
    "select scenario_id, store_nbr, family2, score \n",
    "--select *\n",
    "from results \n",
    "where 1=1\n",
    "and scenario_id like'%m001%'\n",
    "--and store_nbr = '1' \n",
    "--and family2 = '2'\n",
    "order by substr(scenario_id,13,4), substr(scenario_id,1,4), substr(scenario_id,5,4)\n",
    "limit 2\n"
   ]
  },
  {
   "cell_type": "code",
   "execution_count": null,
   "metadata": {},
   "outputs": [],
   "source": [
    "%%sparksql\n",
    "select *\n",
    "from results \n",
    "where 1=1\n",
    "--and scenario_id like'%m001%'\n",
    "and scenario_id = 'x002f005d003y001t002m001c001'\n",
    "and store_nbr = '1' \n",
    "and family2 = '1'\n",
    "limit 20"
   ]
  },
  {
   "cell_type": "code",
   "execution_count": null,
   "metadata": {},
   "outputs": [],
   "source": [
    "spark.sql('''\n",
    "select scenario_id, count(*)\n",
    "from (\n",
    "    select max(a.scenario_id) as scenario_id, a.store_nbr, a.family2, a.score \n",
    "    from   results a,\n",
    "          ( select store_nbr, family2, max(score) score\n",
    "            from results \n",
    "            group by store_nbr, family2\n",
    "          ) b\n",
    "    where a.store_nbr = b.store_nbr\n",
    "    and   a.family2 = b.family2\n",
    "    and   a.score = b.score\n",
    "    group by a.store_nbr, a.family2, a.score\n",
    "    order by a.store_nbr, a.family2, a.score\n",
    "     )\n",
    "where score > 0.81     \n",
    "group by scenario_id      \n",
    "order by scenario_id      \n",
    "''').show(2,False)"
   ]
  },
  {
   "cell_type": "code",
   "execution_count": null,
   "metadata": {},
   "outputs": [],
   "source": []
  },
  {
   "cell_type": "code",
   "execution_count": null,
   "metadata": {},
   "outputs": [],
   "source": [
    "%%sparksql\n",
    "\n",
    "select scenario_id\n",
    "     , count(*) cnt\n",
    "     , count(case when score < 0.20 then 1 else null end) as s10\n",
    "     , count(case when score between 0.21 and 0.40 then 1 else null end) as s30      \n",
    "     , count(case when score between 0.41 and 0.60 then 1 else null end) as s50       \n",
    "     , count(case when score between 0.61 and 0.80 then 1 else null end) as s70       \n",
    "     , count(case when score > 0.81 then 1 else null end) as s90       \n",
    "     , max(scenario_desc) as scenario_desc\n",
    "     , max(feature_col ) as feature_col\n",
    "     , max(feature_sdt8) as feature_sdt8\n",
    "     , max(feature_edt8) as feature_edt8\n",
    "     , max(predict_col ) as predict_col\n",
    "     , max(predict_sdt8) as predict_sdt8\n",
    "     , max(predict_edt8) as predict_edt8\n",
    "     , round(sum(fit_tm_sec)/60)  as fit_tm_min\n",
    "from results                                                                                                                                                                     \n",
    "group by scenario_id\n",
    "order by scenario_id\n",
    "limit 2"
   ]
  },
  {
   "cell_type": "code",
   "execution_count": null,
   "metadata": {},
   "outputs": [],
   "source": []
  },
  {
   "cell_type": "code",
   "execution_count": null,
   "metadata": {},
   "outputs": [],
   "source": [
    "spark.sql('''\n",
    "select auto_ml_model, count(*)\n",
    "from results\n",
    "where scenario_id like '%m004'\n",
    "group by auto_ml_model\n",
    "order by auto_ml_model\n",
    "''').show(2,False)"
   ]
  }
 ],
 "metadata": {
  "kernelspec": {
   "display_name": "Python 3",
   "language": "python",
   "name": "python3"
  },
  "language_info": {
   "codemirror_mode": {
    "name": "ipython",
    "version": 3
   },
   "file_extension": ".py",
   "mimetype": "text/x-python",
   "name": "python",
   "nbconvert_exporter": "python",
   "pygments_lexer": "ipython3",
   "version": "3.8.3"
  }
 },
 "nbformat": 4,
 "nbformat_minor": 4
}